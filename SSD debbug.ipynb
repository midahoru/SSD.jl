{
 "cells": [
  {
   "cell_type": "code",
   "execution_count": 1,
   "id": "a00708d2-a0ba-4142-bbe8-87d222518f11",
   "metadata": {},
   "outputs": [
    {
     "name": "stderr",
     "output_type": "stream",
     "text": [
      "\u001b[32m\u001b[1mPrecompiling\u001b[22m\u001b[39m SSD\n",
      "\u001b[32m  ✓ \u001b[39mSSD\n",
      "  1 dependency successfully precompiled in 65 seconds. 71 already precompiled.\n"
     ]
    }
   ],
   "source": [
    "using Revise\n",
    "import SSD"
   ]
  },
  {
   "cell_type": "code",
   "execution_count": 2,
   "id": "5badd445-5a60-4db0-b02c-83099012d5fe",
   "metadata": {},
   "outputs": [],
   "source": [
    "using Clustering\n",
    "using CPUTime\n",
    "using CSV\n",
    "using DataFrames\n",
    "using Dates\n",
    "using DelimitedFiles\n",
    "using Distributions\n",
    "using Distances\n",
    "using Gurobi\n",
    "using JuMP\n",
    "using LinearAlgebra\n",
    "using Plots\n",
    "using Random"
   ]
  },
  {
   "cell_type": "code",
   "execution_count": null,
   "id": "0ae12e28-2bde-4477-a026-e39b5207844a",
   "metadata": {},
   "outputs": [],
   "source": [
    "using TimerOutputs\n",
    "\n",
    "# Create a TimerOutput, this is the main type that keeps track of everything.\n",
    "const to = TimerOutput()"
   ]
  },
  {
   "cell_type": "code",
   "execution_count": null,
   "id": "98b8b896-ba4f-4aba-9207-63bb2d657b3e",
   "metadata": {},
   "outputs": [],
   "source": [
    "function get_res(file)\n",
    "    extract = false\n",
    "    instance = \"\"\n",
    "    method = \"\"\n",
    "    lb = -99\n",
    "    ub = -99\n",
    "    cpu_t = -99\n",
    "    status = \"\"\n",
    "    iter = -99\n",
    "    mess = \"\"\n",
    "    backup = \"\"\n",
    "    i=1\n",
    "    open(file,\"r\") do f  \n",
    "        while !eof(f)\n",
    "            line = readline(f)\n",
    "            sline = split(line)\n",
    "            if i == 7\n",
    "                backup = line\n",
    "            end\n",
    "            if size(sline)[1] > 0\n",
    "                if extract==true\n",
    "                    if sline[1] == \"Instance:\"\n",
    "                        instance = split(split(sline[2], \"/\")[end],\".\")[1]\n",
    "                    elseif sline[1] == \"Method:\"\n",
    "                        method = sline[2]\n",
    "                    elseif sline[1] == \"LB:\"\n",
    "                        lb = parse(Float64,sline[2])\n",
    "                    elseif sline[1] == \"UB:\"\n",
    "                        ub = parse(Float64,sline[2])\n",
    "                    elseif sline[1] == \"CPU_t:\"\n",
    "                        cpu_t = parse(Float64,sline[2])\n",
    "                    elseif sline[1] == \"Status:\"\n",
    "                        status = sline[2]\n",
    "                    elseif sline[1] == \"Iter:\"\n",
    "                        iter = parse(Float64,sline[2])\n",
    "                    end\n",
    "                end\n",
    "                if sline[1] == \"RESULTS\"                \n",
    "                    extract = true\n",
    "                end\n",
    "                if sline[1] == \"slurmstepd:\"\n",
    "                    println(file)\n",
    "                    mess = join(sline[end-2:end-1],\" \")\n",
    "                    if backup != \"\"\n",
    "                        bk = split(backup,\":\")\n",
    "                        instance = split(bk[2],\",\")[1]\n",
    "                        method=bk[end]\n",
    "                        println(bk)\n",
    "                        println(instance)\n",
    "                        println(method)\n",
    "                    end\n",
    "                    return instance, method, lb, ub, cpu_t, status, iter, mess\n",
    "                end\n",
    "            end\n",
    "            i+=1\n",
    "        end\n",
    "    end\n",
    "    return instance, method, lb, ub, cpu_t, status, iter, mess\n",
    "end"
   ]
  },
  {
   "cell_type": "code",
   "execution_count": null,
   "id": "035af401-23a1-45f2-a827-f32dc94b32ca",
   "metadata": {},
   "outputs": [],
   "source": [
    "df_res1 = DataFrame(inst=String[], method=String[], lb=Float64[], ub=Float64[], cpu_t=Float64[],status=String[],iter=Float64[], error=String[])\n",
    "directory = \"results/\"\n",
    "files = readdir(directory)\n",
    "for filename in files\n",
    "# filename = \"ssd_1218114_1.out\"\n",
    "    # println(filename)\n",
    "    instance, method, lb, ub, cpu_t, status, iter, mess = get_res(directory*filename)\n",
    "    push!(df_res1, (instance, method, lb, ub, cpu_t, status, iter, mess));\n",
    "end"
   ]
  },
  {
   "cell_type": "code",
   "execution_count": null,
   "id": "af9325e4-5a3c-47d5-8ff6-1acece0ab2bc",
   "metadata": {},
   "outputs": [],
   "source": [
    "sort!(df_res1,[:inst])"
   ]
  },
  {
   "cell_type": "code",
   "execution_count": null,
   "id": "fadf7dee-5984-477d-a3a1-29e9094b657b",
   "metadata": {},
   "outputs": [],
   "source": [
    "CSV.write(\"results/results.csv\",df_res1)"
   ]
  },
  {
   "cell_type": "code",
   "execution_count": null,
   "id": "a1813ead-61fe-4f6b-bf2f-1ae3f302f379",
   "metadata": {},
   "outputs": [],
   "source": [
    "function extract_pmed(file)\n",
    "    open(file,\"r\") do f        \n",
    "        line = readline(f)\n",
    "        sline = split(line)\n",
    "        nJ = parse(Int64,sline[2])\n",
    "        nI = parse(Int64,sline[1]) - nJ\n",
    "        Icoords = Matrix{Float64}(undef, 2, nI)\n",
    "        Jcoords = Matrix{Float64}(undef, 2, nJ)\n",
    "        i = 1\n",
    "        do_J = true\n",
    "        while !eof(f)\n",
    "            line = readline(f)\n",
    "            sline = split(line)\n",
    "            if do_J\n",
    "                Jcoords[1,i] = parse(Float64,sline[1])\n",
    "                Jcoords[2,i] = parse(Float64,sline[2])\n",
    "                if i == nJ\n",
    "                    i = 0\n",
    "                    do_J = false\n",
    "                end\n",
    "            else\n",
    "                Icoords[1,i] = parse(Float64,sline[1])\n",
    "                Icoords[2,i] = parse(Float64,sline[2])\n",
    "            end\n",
    "            i += 1\n",
    "        end\n",
    "        return nI, nJ, Icoords, Jcoords\n",
    "    end    \n",
    "end"
   ]
  },
  {
   "cell_type": "code",
   "execution_count": null,
   "id": "34ae074b-b6d9-4bb7-bfdd-524205ac0479",
   "metadata": {},
   "outputs": [],
   "source": [
    "df = DataFrame(id=Int[], in_type=String[], nI=Int[], nJ=Int[], cv=Float64[], D=Int[], FLR=Float64[], FCR=Int[])\n",
    "\n",
    "params0 = SSD.default_params()\n",
    "data = SSD.default_data()\n",
    "\n",
    "coords_bounds=(0,100)\n",
    "r_bounds=(0.3, 0.4)\n",
    "k=5\n",
    "t=3\n",
    "a_bounds=(80,120)\n",
    "\n",
    "id = 1\n",
    "\n",
    "in_type = \"Own\"\n",
    "for (nI, nJ) in [(20,3), (50,10), (70,50)]\n",
    "    for cv in [0.5, 1, 1.5]\n",
    "        for D in [1, 10, 25, 50, 100]\n",
    "            for FLR in [0.4, 0.6, 0.8]\n",
    "                for FCR in [2,4,8,10]\n",
    "                    push!(df, (id, in_type, nI, nJ, cv, D, FLR, FCR));\n",
    "                    SSD.instance_gen(id, in_type, nI, nJ, coords_bounds, a_bounds, r_bounds, cv, D, k, t, FLR, FCR, params0)\n",
    "                    id += 1\n",
    "                end\n",
    "            end\n",
    "        end\n",
    "    end\n",
    "end\n",
    "\n",
    "in_type = \"p-med\"\n",
    "directory = \"instances/p-median/\"\n",
    "                # (90,10)   (185,15)        (275,25)     (372,30)      (2338, 700)\n",
    "for filename in [\"SJC1.dat\", \"SJC2.dat\", \"SJC3a.dat\", \"SJC4a.dat\"]#, \"p3038_700.dat\"]\n",
    "    file = directory*filename\n",
    "    nI, nJ, Icoords, Jcoords = extract_pmed(file)\n",
    "    for cv in [0.5, 1, 1.5]\n",
    "        for D in [1, 10, 25, 50, 100]\n",
    "            for FLR in [0.4, 0.6, 0.8]\n",
    "                for FCR in [2,4,8,10]\n",
    "                    push!(df, (id, in_type, nI, nJ, cv, D, FLR, FCR));\n",
    "                    SSD.instance_gen(id, in_type, nI, nJ, coords_bounds, a_bounds, r_bounds, cv, D, k, t, FLR, FCR, params0, Icoords, Jcoords)\n",
    "                    id += 1\n",
    "                end\n",
    "            end\n",
    "        end\n",
    "    end\n",
    "end"
   ]
  },
  {
   "cell_type": "code",
   "execution_count": null,
   "id": "f6a476f9-8d51-4233-a253-89dbf606946c",
   "metadata": {},
   "outputs": [],
   "source": [
    "CSV.write(\"instances/instances inventory.csv\",df)"
   ]
  },
  {
   "cell_type": "code",
   "execution_count": null,
   "id": "7cd8ed45-cd1a-448b-9b58-2d1827a87abc",
   "metadata": {
    "scrolled": true
   },
   "outputs": [],
   "source": [
    "# Create instances\n",
    "\n",
    "df = DataFrame(id=Int[], in_type=String[], nI=Int[], nJ=Int[], cv=Float64[], D=Int[], FLR=Float64[], FCR=Int[])\n",
    "\n",
    "params0 = SSD.default_params()\n",
    "data = SSD.default_data()\n",
    "\n",
    "coords_bounds=(0,100)\n",
    "r_bounds=(0.3, 0.4)\n",
    "# k=5\n",
    "# t=3\n",
    "a_bounds=(50,320)\n",
    "\n",
    "id = 1\n",
    "\n",
    "in_type = \"Own\"\n",
    "for (nI, nJ) in [(30,5), (200,30), (500,100)] #[(20,3), (70,10), (250,10)]\n",
    "    for t in [4, 12, 54]\n",
    "        for k in [5, 10]\n",
    "            for cv in [1]\n",
    "                for D in [72500]\n",
    "                    for FLR in [0.6]\n",
    "                        for FCR in [8]\n",
    "                            push!(df, (id, in_type, nI, nJ, cv, D, FLR, FCR));\n",
    "                            SSD.instance_gen(id, in_type, nI, nJ, coords_bounds, a_bounds, r_bounds, cv, D, k, t, FLR, FCR, params0)\n",
    "                            id += 1\n",
    "                        end\n",
    "                    end\n",
    "                end\n",
    "            end\n",
    "        end\n",
    "    end\n",
    "end"
   ]
  },
  {
   "cell_type": "code",
   "execution_count": null,
   "id": "04924fba-a733-49a1-9953-f63252e48b3b",
   "metadata": {},
   "outputs": [],
   "source": [
    "# Read the outputs for the relaxed tests\n",
    "\n",
    "df_rel = DataFrame(id=Int[], size=String[], method=String[], \n",
    "    Relax_iters=Int64[], Relax_cuts=Int64[], OF=Float64[], CPU=Float64[], Memory=Float64[])\n",
    "errors_rel=[]\n",
    "\n",
    "directory = \"../output_rel/\"\n",
    "filenames = []\n",
    "for (root, dirs, files) in walkdir(directory)\n",
    "    filenames = files\n",
    "end\n",
    "\n",
    "for filename in filenames\n",
    "    \n",
    "    file = directory*filename\n",
    "    # file=directory*\"ssd_1558214_10.out\"\n",
    "    # println(\"Processing $filename\")\n",
    "    \n",
    "    open(file,\"r\") do f\n",
    "        take_info = false\n",
    "        row = []\n",
    "        benders_sec = false\n",
    "        method = \"\"\n",
    "        \n",
    "        while !eof(f)\n",
    "            line = readline(f)\n",
    "            sline_temp = split(line,\":\")\n",
    "            if sline_temp[1]==\"solving instance SSD id\"\n",
    "                inst_id = parse(Int64,split(sline_temp[2], \",\")[1])\n",
    "                method = sline_temp[end]\n",
    "                push!(row, inst_id)\n",
    "                push!(row, \"S_M\")\n",
    "                push!(row, method)\n",
    "            end\n",
    "\n",
    "            if line == \"RESULTS\"\n",
    "                take_info = true\n",
    "            end\n",
    "            # println(\"Line: $line\")\n",
    "            # println(\"Line length: $(length(line))\")\n",
    "            if take_info && length(line) > 0\n",
    "                sline = split(line)\n",
    "                data = sline[1]\n",
    "                # println(\"$data is equal to Cap $(data==\"Cap\")\")\n",
    "                # println(\"Method is $method\")\n",
    "                if data == \"LP\"\n",
    "                    push!(row, 0)\n",
    "                    push!(row, 0)\n",
    "                    text = sline[3]\n",
    "                    push!(row, round(parse(Float64,text), digits=2))\n",
    "                elseif data == \"Rel\" && sline[2]== \"iters:\"\n",
    "                    text = replace(sline[3], \"Any\"=>\"\", \"[\"=>\"\", \"]\"=>\"\", \",\"=>\"\") \n",
    "                    push!(row, parse(Int64,text))\n",
    "                elseif data == \"Rel\" && sline[2]== \"cuts:\"\n",
    "                    text = replace(sline[3], \"Any\"=>\"\", \"[\"=>\"\", \"]\"=>\"\", \",\"=>\"\") \n",
    "                    push!(row, parse(Int64,text))\n",
    "                elseif data == \"Rel\" && sline[2]== \"lb:\"\n",
    "                    text = replace(sline[3], \"Any\"=>\"\", \"[\"=>\"\", \"]\"=>\"\", \",\"=>\"\") \n",
    "                    push!(row, round(parse(Float64,text), digits=2))\n",
    "                elseif data == \"CPU_t:\"\n",
    "                    text = sline[2]\n",
    "                    push!(row, parse(Float64,text))\n",
    "                elseif data == \"Memory:\"\n",
    "                    text =sline[2]\n",
    "                    push!(row, parse(Float64,text))\n",
    "                end\n",
    "            end\n",
    "        end\n",
    "        # println(row)\n",
    "        try\n",
    "            push!(df_rel, row)\n",
    "        catch\n",
    "            push!(errors_rel, parse(Int64,split(split(filename,\"_\")[end],\".\")[begin]))\n",
    "        end\n",
    "    end\n",
    "    # break\n",
    "end"
   ]
  },
  {
   "cell_type": "code",
   "execution_count": null,
   "id": "a35ed927-6d74-40d9-a5f2-a4dedf5a226b",
   "metadata": {},
   "outputs": [],
   "source": [
    "# Export the data frame\n",
    "sort!(df_rel, [:id, :size], rev=[false, true])\n",
    "file_name = \"111024_results_relaxations.csv\"\n",
    "\n",
    "CSV.write(file_name, df_rel)"
   ]
  },
  {
   "cell_type": "code",
   "execution_count": null,
   "id": "a3eadc7c-3194-4322-bf68-f0de8f85678f",
   "metadata": {},
   "outputs": [],
   "source": [
    "df_rel"
   ]
  },
  {
   "cell_type": "code",
   "execution_count": null,
   "id": "1930e14e-7166-4139-af55-8f418c95616d",
   "metadata": {},
   "outputs": [],
   "source": [
    "sort(errors_rel)"
   ]
  },
  {
   "cell_type": "code",
   "execution_count": null,
   "id": "4f302cd5-e1c7-4d1c-9a63-469678426162",
   "metadata": {},
   "outputs": [],
   "source": [
    "sline"
   ]
  },
  {
   "cell_type": "code",
   "execution_count": null,
   "id": "5e8539fd-51af-4b63-a31b-bdfbc1db36af",
   "metadata": {},
   "outputs": [],
   "source": [
    "line=\"y=Any[0, 0, 0, 10, 10, 10, 0, 0, 10, 0, 10, 0, 0, 0, 0, 10, 10, 0, 0, 10, 0, 10, 10, 0, 0, 0, 10, 0, 10, 0]\"\n",
    "sline = split(line)\n",
    "sline = [replace(i,\"y=Any\"=>\"\", \"[\"=>\"\", \"]\"=>\"\", \",\"=>\"\") for i in sline]\n",
    "[parse(Int64,sline[i]) for i in 1:length(sline)]"
   ]
  },
  {
   "cell_type": "code",
   "execution_count": null,
   "id": "c6769c44-e326-4a77-ab50-e693e736a034",
   "metadata": {},
   "outputs": [],
   "source": [
    "# Read the outputs\n",
    "\n",
    "df = DataFrame(id=Int[], size=String[], method=String[], OF=Float64[], LC=Float64[], AL=Float64[], \n",
    "    CC=Float64[], y=Array[], nVars=Int64[], nCons=Array[], Nodes=Int64[], Feas_cuts=Int64[], Opt_cuts=Int64[], \n",
    "    Relax_iters=Array[], Relax_cuts=Array[], Relax_bounds=Array[],\n",
    "    test_cap=String[], test_1cap=String[], test_1dem=String[], outer_cuts=Array[], CPU=Float64[], Memory=Float64[], Status=String[], Iter=Int64[])\n",
    "# df = DataFrame(id=Int[], inst_type =String[], method=String[], OF=Float64[], LC=Float64[], AL=Float64[], \n",
    "#     CC=Float64[], y=Array[], Nodes=Int64[], Feas_cuts=Int64[], Opt_cuts=Int64[], Relax_cuts=Array[],\n",
    "#     test_cap=String[], test_1cap=String[], test_1dem=String[], CPU=Float64[], Memory=Float64[])\n",
    "errors=[]\n",
    "\n",
    "directory = \"../output/\"\n",
    "filenames = []\n",
    "for (root, dirs, files) in walkdir(\"../output/\")\n",
    "    filenames = files\n",
    "end\n",
    "\n",
    "for filename in filenames\n",
    "    \n",
    "    file = directory*filename\n",
    "    # file=directory*\"ssd_1558214_10.out\"\n",
    "    println(\"Processing $filename\")\n",
    "    \n",
    "    open(file,\"r\") do f\n",
    "        take_info = false\n",
    "        row = []\n",
    "        method=\"\"\n",
    "        benders_sec = false\n",
    "        rel_lb_temp = 0\n",
    "        rel_ub_temp = 0\n",
    "        while !eof(f)\n",
    "            line = readline(f)\n",
    "            sline_temp = split(line,\"=\")\n",
    "            if sline_temp[1]== \"With this agg the bounds are lb\" #\"With the agg Any[\\\"K\\\"] the bounds are lb\"\n",
    "                rel_lb_temp = parse(Float64,split(sline_temp[2])[1])\n",
    "                rel_ub_temp = parse(Float64,split(sline_temp[end])[1])\n",
    "            end\n",
    "\n",
    "            if line == \"RESULTS\"\n",
    "                take_info = true\n",
    "            end\n",
    "            # println(\"Line: $line\")\n",
    "            # println(\"Line length: $(length(line))\")\n",
    "            if take_info && length(line) > 0\n",
    "                sline = split(line)\n",
    "                data = sline[1]\n",
    "                # println(\"$data is equal to Cap $(data==\"Cap\")\")\n",
    "                if data == \"Instance:\"\n",
    "                    text = sline[2]\n",
    "                    push!(row, parse(Int64,split(split(text,\"/\")[end],\".\")[begin]))\n",
    "                    inst_type = \"S_M\"\n",
    "                    if split(filename,\"_\")[2] == \"large\"\n",
    "                        inst_type = \"L\"\n",
    "                    end\n",
    "                    push!(row, inst_type)\n",
    "                elseif data == \"Method:\"\n",
    "                    method = sline[2]\n",
    "                    push!(row, method)\n",
    "                elseif data == \"OF:\"\n",
    "                    text = sline[2]\n",
    "                    push!(row, parse(Float64,text))\n",
    "                elseif data == \"Location\"\n",
    "                    text = sline[3]\n",
    "                    push!(row, parse(Float64,text))\n",
    "                elseif data == \"Allocation\"\n",
    "                    text = sline[3]\n",
    "                    push!(row, parse(Float64,text))\n",
    "                elseif data == \"Congestion\"\n",
    "                    text = sline[3]\n",
    "                    push!(row, parse(Float64,text))\n",
    "                elseif string(data[1])==\"y\"\n",
    "                    sline = [replace(i,\"y=Any\"=>\"\", \"[\"=>\"\", \"]\"=>\"\", \",\"=>\"\") for i in sline]\n",
    "                    push!(row, [parse(Int64,i) for i in sline])\n",
    "                    benders_sec = true\n",
    "                    # if method == \"lazy_cuts\" || method == \"iter_cuts\"\n",
    "                    #     push!(row, 0)\n",
    "                    #     push!(row, [0])\n",
    "                    #     push!(row, 0)\n",
    "                    #     push!(row, 0)\n",
    "                    #     push!(row, 0)\n",
    "                    #     push!(row, [0])\n",
    "                    #     push!(row, [0])\n",
    "                    #     push!(row, [0,0])\n",
    "                    #     benders_sec = false\n",
    "                    # end\n",
    "                elseif benders_sec\n",
    "                    if data == \"Vars:\"\n",
    "                        text = sline[2]\n",
    "                        push!(row, parse(Int64,text))\n",
    "                    elseif data == \"Cons:\"\n",
    "                        sline_num = [replace(sline[i],\"Any\"=>\"\", \"[\"=>\"\", \"]\"=>\"\", \",\"=>\"\") for i in 2:length(sline)]\n",
    "                        push!(row, [parse(Int64,sline_num[i]) for i in 1:length(sline_num)])\n",
    "                        # push!(row, parse(Int64,text))\n",
    "                    elseif data == \"nodes:\"\n",
    "                        text = sline[2]\n",
    "                        push!(row, parse(Int64,replace(text,\"Any\"=>\"\", \"[\"=>\"\", \"]\"=>\"\", \",\"=>\"\") )) \n",
    "                    elseif data == \"Feas\"\n",
    "                        text = sline[3]\n",
    "                        push!(row, parse(Int64,text))\n",
    "                    elseif data == \"Opt\"\n",
    "                        text = sline[3]\n",
    "                        push!(row, parse(Int64,text))\n",
    "                    elseif data == \"Rel\"\n",
    "                        sline_num = [replace(sline[i],\"Any\"=>\"\", \"[\"=>\"\", \"]\"=>\"\", \",\"=>\"\") for i in 3:length(sline)]\n",
    "                        if sline_num != [\"\"]\n",
    "                            push!(row, [parse(Int64,sline_num[i]) for i in 1:length(sline_num)])\n",
    "                        else\n",
    "                            push!(row, [0])\n",
    "                        end\n",
    "                        # if sline[2] == \"iters\"\n",
    "                        #     push!(row, [parse(Int64,sline_num[i]) for i in 1:length(sline_num)])\n",
    "                        # elseif sline[2] == \"cuts\"\n",
    "                        #     text = sline[3]\n",
    "                        #     push!(row, [parse(Int64,sline[i][end-1]) for i in 3:length(sline)])\n",
    "                        # end\n",
    "                        if sline[2] == \"cuts:\"\n",
    "                            push!(row, [rel_lb_temp,rel_ub_temp])\n",
    "                            benders_sec = false\n",
    "                        end\n",
    "                    end\n",
    "                    # end\n",
    "                elseif data==\"Cap\"  \n",
    "                    text = sline[3]                    \n",
    "                    push!(row, text)\n",
    "                elseif data == \"1_cap:\"\n",
    "                    text = sline[2]\n",
    "                    push!(row, text)\n",
    "                elseif data == \"1_demand:\"\n",
    "                    text = sline[2]\n",
    "                    push!(row, text)\n",
    "                elseif data==\"Outer_cuts:\"\n",
    "                    text = parse.(Int64,replace(sline[i],\"Any\"=>\"\", \"[\"=>\"\", \"]\"=>\"\", \",\"=>\"\") for i in 2:length(sline))\n",
    "                    push!(row, text)\n",
    "                elseif data == \"CPU_t:\"\n",
    "                    text = sline[2]\n",
    "                    push!(row, parse(Float64,text))\n",
    "                elseif data == \"Memory:\"\n",
    "                    text =sline[2]\n",
    "                    push!(row, parse(Float64,text))\n",
    "                elseif data == \"Status:\"\n",
    "                    text =sline[2]\n",
    "                    push!(row, text)\n",
    "                elseif data == \"Iter:\"\n",
    "                    text =sline[2]\n",
    "                    push!(row, parse(Int64,text))\n",
    "                end\n",
    "            end\n",
    "        end\n",
    "        # println(row)\n",
    "        try\n",
    "            push!(df, row)\n",
    "        catch\n",
    "            push!(errors, parse(Int64,split(split(filename,\"_\")[end],\".\")[begin]))\n",
    "        end\n",
    "    end\n",
    "    # break\n",
    "end"
   ]
  },
  {
   "cell_type": "code",
   "execution_count": null,
   "id": "2291fe47-4d7f-4de3-b331-5dba14b8b016",
   "metadata": {},
   "outputs": [],
   "source": [
    "sort!(df, [:id, :size, :method], rev=[false, true, true])\n",
    "df#[end-1,:]"
   ]
  },
  {
   "cell_type": "code",
   "execution_count": null,
   "id": "2853a01d-a471-4f27-b6fa-eaf4de13bf16",
   "metadata": {},
   "outputs": [],
   "source": [
    "sort(errors)"
   ]
  },
  {
   "cell_type": "code",
   "execution_count": null,
   "id": "77783df2-8663-43cc-a784-42ec762e2c2b",
   "metadata": {},
   "outputs": [],
   "source": [
    "# Export the data frame\n",
    "sort!(df, [:id, :size, :method], rev=[false, true, true])\n",
    "file_name = \"151124_results2.csv\"\n",
    "\n",
    "CSV.write(file_name, df)"
   ]
  },
  {
   "cell_type": "code",
   "execution_count": null,
   "id": "c1788661-0fea-4510-a840-8d3de487a401",
   "metadata": {},
   "outputs": [],
   "source": [
    "sort!(df, [:id, :size, :method], rev=[false, true, true])\n",
    "filter(row -> row.size == \"S_M\", df)"
   ]
  },
  {
   "cell_type": "code",
   "execution_count": null,
   "id": "f73a2797-e4c7-4fd8-ab19-b3fd6c8ae1ed",
   "metadata": {},
   "outputs": [],
   "source": [
    "errors"
   ]
  },
  {
   "cell_type": "code",
   "execution_count": null,
   "id": "12409223-64cd-46ef-8b98-e62dd20eed18",
   "metadata": {},
   "outputs": [],
   "source": []
  },
  {
   "cell_type": "code",
   "execution_count": null,
   "id": "90e73767-f7de-4f29-8f88-208653e73a29",
   "metadata": {},
   "outputs": [],
   "source": []
  },
  {
   "cell_type": "code",
   "execution_count": null,
   "id": "05b18bc1-829b-4065-b59d-1ee79f9dee6d",
   "metadata": {},
   "outputs": [],
   "source": []
  },
  {
   "cell_type": "markdown",
   "id": "551d7c97-6e8c-4ad3-91ef-0e1d3b3daa89",
   "metadata": {},
   "source": [
    "# Clustering"
   ]
  },
  {
   "cell_type": "code",
   "execution_count": null,
   "id": "f27edacf-608f-4a81-997e-8d587a3458a3",
   "metadata": {},
   "outputs": [],
   "source": [
    "directory = \"instances/Own/\"\n",
    "filename= \"1.txt\" #\"1.txt\" # \"25.txt\" # \"6.txt\"#\"18_3.txt\""
   ]
  },
  {
   "cell_type": "code",
   "execution_count": null,
   "id": "83e55ec3-9329-49db-8c3c-ffd4e4ff52c4",
   "metadata": {},
   "outputs": [],
   "source": [
    "# Create default parameters\n",
    "params = SSD.default_params()\n",
    "# Create the data container\n",
    "data = SSD.default_data()\n",
    "# Read the instance\n",
    "SSD.read_file(directory*filename, data)"
   ]
  },
  {
   "cell_type": "code",
   "execution_count": null,
   "id": "780c84d0-68e5-4f76-8f59-3278e25e0e11",
   "metadata": {},
   "outputs": [],
   "source": [
    "x=data.Jcoords[1,:]\n",
    "y=data.Jcoords[2,:]\n",
    "scatter(x,y)"
   ]
  },
  {
   "cell_type": "code",
   "execution_count": null,
   "id": "a019ebbb-812c-4dde-b59e-69977d0b532e",
   "metadata": {
    "scrolled": true
   },
   "outputs": [],
   "source": [
    "n_clus = max(2,Int64(floor(data.J/10)))\n",
    "res_clus = kmeans(data.Jcoords, n_clus) \n",
    "@assert nclusters(res_clus) == n_clus"
   ]
  },
  {
   "cell_type": "code",
   "execution_count": null,
   "id": "890f42a2-7ea5-4952-82f1-80714ec0f1be",
   "metadata": {},
   "outputs": [],
   "source": [
    "nclusters(res_clus), n_clus, counts(res_clus)"
   ]
  },
  {
   "cell_type": "code",
   "execution_count": null,
   "id": "59636358-3832-4ce7-8672-80fb3514aa1a",
   "metadata": {},
   "outputs": [],
   "source": [
    "for clus in 1:nclusters(res_clus)\n",
    "    fac = findall(==(clus),assignments(res_clus))\n",
    "    x=data.Jcoords[1,fac]\n",
    "    y=data.Jcoords[2,fac]\n",
    "    if clus == 1\n",
    "        scatter(x,y)\n",
    "    else\n",
    "        display(scatter!(x,y))\n",
    "    end\n",
    "end"
   ]
  },
  {
   "cell_type": "code",
   "execution_count": null,
   "id": "1c791250-005c-42fe-bbff-58408e76a5fb",
   "metadata": {},
   "outputs": [],
   "source": [
    "R = []\n",
    "K = 1:data.k\n",
    "for clus in 1:nclusters(res_clus)\n",
    "    Rl=[]\n",
    "    fac = findall(==(clus),assignments(res_clus))\n",
    "    for f in fac\n",
    "        for k in K\n",
    "            push!(Rl, (f,k))\n",
    "        end\n",
    "    end\n",
    "    push!(R, Rl)\n",
    "end"
   ]
  },
  {
   "cell_type": "code",
   "execution_count": null,
   "id": "cb181587-c951-462a-9250-4fbcf1334855",
   "metadata": {},
   "outputs": [],
   "source": [
    "z=[1 2 3; 4 5 6; 7 8 9]\n",
    "a=[(1,1), (2,2), (3,2)]\n",
    "sum(z[j,k] for (j,k) in a)    "
   ]
  },
  {
   "cell_type": "code",
   "execution_count": 254,
   "id": "d8241b20-c210-4df2-b870-543e86e7d99a",
   "metadata": {},
   "outputs": [],
   "source": [
    "# Test toy example\n",
    "using JuMP\n",
    "using MathOptInterface"
   ]
  },
  {
   "cell_type": "code",
   "execution_count": 255,
   "id": "986e1754-52b1-4662-bf9e-9513b19b4c2d",
   "metadata": {},
   "outputs": [
    {
     "data": {
      "text/plain": [
       "4"
      ]
     },
     "execution_count": 255,
     "metadata": {},
     "output_type": "execute_result"
    }
   ],
   "source": [
    "y1_ref = 4"
   ]
  },
  {
   "cell_type": "code",
   "execution_count": 256,
   "id": "4cfbb782-3861-4193-ab5c-e526e8f3d8f7",
   "metadata": {},
   "outputs": [
    {
     "name": "stdout",
     "output_type": "stream",
     "text": [
      "Set parameter Username\n",
      "Academic license - for non-commercial use only - expires 2025-02-18\n",
      "Set parameter Threads to value 1\n",
      "Set parameter MIPGap to value 1e-05\n",
      "Set parameter Presolve to value 0\n",
      "Set parameter Cuts to value 0\n",
      "Set parameter Cuts to value 0\n",
      "Set parameter MIPGap to value 1e-05\n",
      "Set parameter Threads to value 1\n"
     ]
    }
   ],
   "source": [
    "mp = Model(optimizer_with_attributes(()->Gurobi.Optimizer(),\n",
    "        # \"OutputFlag\" => 0,\n",
    "        \"Threads\" => 1,\n",
    "        \"MIPGap\" => 1e-5,\n",
    "        \"Presolve\" => 0,\n",
    "        \"Cuts\" => 0,\n",
    "        \"LogToConsole\" => 0,\n",
    "        ))\n",
    "\n",
    "@variable(mp, 0<=y1, Int)\n",
    "@variable(mp, 1 <= α)\n",
    "\n",
    "@objective(mp, Min, 2*y1 + α)\n",
    "\n",
    "@constraint(mp, y1 <= 10)\n",
    "\n",
    "optimize!(mp)"
   ]
  },
  {
   "cell_type": "code",
   "execution_count": 257,
   "id": "e9c98bd1-4bce-4b8a-9f6a-677015934b94",
   "metadata": {},
   "outputs": [
    {
     "data": {
      "text/plain": [
       "-0.0"
      ]
     },
     "execution_count": 257,
     "metadata": {},
     "output_type": "execute_result"
    }
   ],
   "source": [
    "value(y1)"
   ]
  },
  {
   "cell_type": "code",
   "execution_count": 258,
   "id": "b39c9d76-253b-4931-a464-dba626afc8b7",
   "metadata": {},
   "outputs": [
    {
     "name": "stdout",
     "output_type": "stream",
     "text": [
      "Set parameter Username\n",
      "Academic license - for non-commercial use only - expires 2025-02-18\n",
      "Set parameter Threads to value 1\n",
      "Set parameter MIPGap to value 1e-05\n",
      "Set parameter Presolve to value 0\n",
      "Set parameter Cuts to value 0\n",
      "Set parameter Cuts to value 0\n",
      "Set parameter MIPGap to value 1e-05\n",
      "Set parameter Threads to value 1\n"
     ]
    }
   ],
   "source": [
    "m = Model(optimizer_with_attributes(()->Gurobi.Optimizer(),\n",
    "        # \"OutputFlag\" => 0,\n",
    "        \"Threads\" => 1,\n",
    "        \"MIPGap\" => 1e-5,\n",
    "        \"Presolve\" => 0,\n",
    "        \"Cuts\" => 0,\n",
    "        \"LogToConsole\" => 0,\n",
    "        ))\n",
    "\n",
    "@variable(m, 0 <= y2)\n",
    "@variable(m, 0 <= y3)\n",
    "\n",
    "@objective(m, Min, 4*y2+(11/5)*y3)\n",
    "\n",
    "@constraint(m, c1_sp, y2+y3>=20-y1_ref)  # π1\n",
    "@constraint(m, c2_sp,  2*y2+10*y3>=12) # π2\n",
    "@constraint(m, c3_sp,  -y3>=-y1_ref) # π3\n",
    "@constraint(m, c4_sp,  -y2 >= - 25) # π4\n",
    "@constraint(m, c5_sp,  -y3 >= - 25) # π5\n",
    "\n",
    "optimize!(m)"
   ]
  },
  {
   "cell_type": "code",
   "execution_count": 259,
   "id": "565580a1-ce4d-4017-be41-aba2a442cba3",
   "metadata": {},
   "outputs": [
    {
     "data": {
      "text/plain": [
       "(12.0, 4.0, 56.8)"
      ]
     },
     "execution_count": 259,
     "metadata": {},
     "output_type": "execute_result"
    }
   ],
   "source": [
    "# Optimal values\n",
    "value(y2), value(y3), objective_value(m)"
   ]
  },
  {
   "cell_type": "code",
   "execution_count": 260,
   "id": "1af1e120-8fe0-4066-ae83-8a736ec98cfb",
   "metadata": {
    "scrolled": true
   },
   "outputs": [
    {
     "data": {
      "text/plain": [
       "(4.0, 0.0, 1.7999999999999998, 0.0, 0.0)"
      ]
     },
     "execution_count": 260,
     "metadata": {},
     "output_type": "execute_result"
    }
   ],
   "source": [
    "π1 = dual(c1_sp)\n",
    "π2 = dual(c2_sp)\n",
    "π3 = dual(c3_sp)\n",
    "π4 = dual(c4_sp)\n",
    "π5 = dual(c5_sp)\n",
    "\n",
    "π1, π2, π3, π4, π5"
   ]
  },
  {
   "cell_type": "code",
   "execution_count": 267,
   "id": "c8bcafdf-40e6-417f-8725-8227c9518a55",
   "metadata": {},
   "outputs": [
    {
     "data": {
      "text/latex": [
       "$$ 5.8 y1 + α \\geq 80 $$"
      ],
      "text/plain": [
       "5.8 y1 + α >= 80"
      ]
     },
     "execution_count": 267,
     "metadata": {},
     "output_type": "execute_result"
    }
   ],
   "source": [
    "# Expression\n",
    "expr = AffExpr(0)\n",
    "add_to_expression!(expr,π1*(20-mp[:y1]))\n",
    "add_to_expression!(expr,π2*(12))\n",
    "add_to_expression!(expr,π3*(-mp[:y1]))\n",
    "add_to_expression!(expr,π4*(25))\n",
    "add_to_expression!(expr,π5*(25))\n",
    "\n",
    "@constraint(mp, α>= expr)"
   ]
  },
  {
   "cell_type": "code",
   "execution_count": 268,
   "id": "4b231c38-2e36-4839-8651-186d69534e9c",
   "metadata": {},
   "outputs": [],
   "source": [
    "optimize!(mp)"
   ]
  },
  {
   "cell_type": "code",
   "execution_count": 269,
   "id": "87af2a44-6e7b-4e93-94f1-727cfc4c9b0c",
   "metadata": {},
   "outputs": [
    {
     "data": {
      "text/plain": [
       "(10.0, 21.999999999999996)"
      ]
     },
     "execution_count": 269,
     "metadata": {},
     "output_type": "execute_result"
    }
   ],
   "source": [
    "value(y1), value(α)"
   ]
  },
  {
   "cell_type": "markdown",
   "id": "f588d1aa-fa94-465a-90af-240fe32abaf6",
   "metadata": {},
   "source": [
    "# Solve 1 inst"
   ]
  },
  {
   "cell_type": "code",
   "execution_count": 20,
   "id": "98cbeb50-97ef-47cd-bd5c-a514fccd4c83",
   "metadata": {},
   "outputs": [
    {
     "name": "stdout",
     "output_type": "stream",
     "text": [
      "\n",
      "instance file instances/Own/5.txt parsed successfully\n",
      "\n"
     ]
    }
   ],
   "source": [
    "# Create default parameters\n",
    "params = SSD.default_params()\n",
    "# Create the data container\n",
    "data = SSD.default_data()\n",
    "# Read the instance\n",
    "SSD.read_file(directory*filename, data)\n",
    "data.F = SSD.gen_costs(data, params)\n",
    "data.Q = SSD.gen_caps(data, params)\n",
    "# Initialize the status\n",
    "status = SSD.init_solver_status()\n",
    "\n",
    "ρ_h = SSD.ini_ρ_h(data, 32) ;\n",
    "\n",
    "J=1:data.J\n",
    "I=1:data.I\n",
    "T=1:data.t\n",
    "K=1:data.k\n",
    "cv=data.cv\n",
    "D=data.D\n",
    "C=data.C;"
   ]
  },
  {
   "cell_type": "code",
   "execution_count": null,
   "id": "d3c61330-db9b-47ac-91d3-aa8f9f497a85",
   "metadata": {},
   "outputs": [],
   "source": [
    "M= SSD.calc_big_M(data, ρ_h)"
   ]
  },
  {
   "cell_type": "code",
   "execution_count": 145,
   "id": "d3885d63-ced4-41c4-b892-a59dd5a6b39f",
   "metadata": {},
   "outputs": [
    {
     "data": {
      "text/plain": [
       "5×5 Matrix{Float64}:\n",
       " 0.0  0.0  0.0  0.0  0.0\n",
       " 1.0  0.0  0.0  0.0  0.0\n",
       " 0.0  0.0  1.0  0.0  0.0\n",
       " 0.0  0.0  0.0  0.0  0.0\n",
       " 0.0  0.0  0.0  0.0  1.0"
      ]
     },
     "execution_count": 145,
     "metadata": {},
     "output_type": "execute_result"
    }
   ],
   "source": [
    "y=SSD.gen_y(data,[0,1,3,0,5])"
   ]
  },
  {
   "cell_type": "code",
   "execution_count": 153,
   "id": "df5a7673-a050-4991-bbd4-27352fbfdf1e",
   "metadata": {},
   "outputs": [
    {
     "data": {
      "text/plain": [
       "1-element Vector{Int64}:\n",
       " 3"
      ]
     },
     "execution_count": 153,
     "metadata": {},
     "output_type": "execute_result"
    }
   ],
   "source": [
    "findall(==(1),y[3,:])"
   ]
  },
  {
   "cell_type": "code",
   "execution_count": 147,
   "id": "6fb9cbd7-a8fd-45b4-a5e9-d3dfc8d1ae7f",
   "metadata": {},
   "outputs": [
    {
     "name": "stdout",
     "output_type": "stream",
     "text": [
      "12345678910111213141516171819202122232425"
     ]
    }
   ],
   "source": [
    "for j in J\n",
    "    "
   ]
  },
  {
   "cell_type": "code",
   "execution_count": 130,
   "id": "e9050d10-6112-413f-a783-eef5d69fb45b",
   "metadata": {},
   "outputs": [
    {
     "data": {
      "text/plain": [
       "5"
      ]
     },
     "execution_count": 130,
     "metadata": {},
     "output_type": "execute_result"
    }
   ],
   "source": [
    "data.k"
   ]
  },
  {
   "cell_type": "code",
   "execution_count": 30,
   "id": "1838acaf-e4a9-4f0e-94c1-27ab4853a620",
   "metadata": {},
   "outputs": [
    {
     "data": {
      "text/plain": [
       "\"1.txt\""
      ]
     },
     "execution_count": 30,
     "metadata": {},
     "output_type": "execute_result"
    }
   ],
   "source": [
    "directory = \"instances/Own/\"\n",
    "filename= \"1.txt\" #\"1.txt\" # \"25.txt\" # \"6.txt\"#\"18_3.txt\""
   ]
  },
  {
   "cell_type": "code",
   "execution_count": 31,
   "id": "aef5722d-e619-490f-8399-52313c598dcb",
   "metadata": {},
   "outputs": [
    {
     "name": "stdout",
     "output_type": "stream",
     "text": [
      "Starting benders_lazyBp\n",
      "\n",
      "instance file instances/Own/1.txt parsed successfully\n",
      "\n",
      "Set parameter Username\n",
      "Academic license - for non-commercial use only - expires 2025-02-18\n",
      "Set parameter Threads to value 1\n",
      "Set parameter MIPGap to value 1e-05\n",
      "Set parameter TimeLimit to value 18001\n",
      "Set parameter LazyConstraints to value 1\n",
      "Set parameter Presolve to value 0\n",
      "Set parameter Cuts to value 0\n",
      "Set parameter Threads to value 1\n",
      "Set parameter MIPGap to value 1e-05\n",
      "Set parameter TimeLimit to value 18001\n",
      "Set parameter Presolve to value 0\n",
      "Set parameter Cuts to value 0\n",
      "Set parameter Threads to value 1\n",
      "Set parameter MIPGap to value 1e-05\n",
      "Set parameter TimeLimit to value 18001\n",
      "Set parameter Presolve to value 0\n",
      "Set parameter Cuts to value 0\n",
      "Set parameter Threads to value 1\n",
      "Set parameter MIPGap to value 1e-05\n",
      "Set parameter TimeLimit to value 18001\n",
      "Set parameter Presolve to value 0\n",
      "Set parameter Cuts to value 0\n",
      "Set parameter Threads to value 1\n",
      "Set parameter MIPGap to value 1e-05\n",
      "Set parameter TimeLimit to value 18001\n",
      "Set parameter Presolve to value 0\n",
      "Set parameter Cuts to value 0\n",
      "\n",
      "---- SOLVING RELAXATIONS ----\n",
      "\n",
      "\n",
      "---- STARTING BRANCHING ----\n",
      "Set parameter Cuts to value 0\n",
      "Set parameter MIPGap to value 1e-05\n",
      "Set parameter LazyConstraints to value 1\n",
      "Set parameter Threads to value 1\n",
      "Set parameter TimeLimit to value 18001\n",
      "Set parameter Presolve to value 0\n",
      "Gurobi Optimizer version 10.0.3 build v10.0.3rc0 (win64)\n",
      "\n",
      "CPU model: Intel(R) Core(TM) i7-4790 CPU @ 3.60GHz, instruction set [SSE2|AVX|AVX2]\n",
      "Thread count: 4 physical cores, 8 logical processors, using up to 1 threads\n",
      "\n",
      "Optimize a model with 13 rows, 29 columns and 129 nonzeros\n",
      "Model fingerprint: 0xba69eff9\n",
      "Variable types: 4 continuous, 25 integer (25 binary)\n",
      "Coefficient statistics:\n",
      "  Matrix range     [1e+00, 1e+03]\n",
      "  Objective range  [1e+00, 4e+02]\n",
      "  Bounds range     [1e+00, 1e+00]\n",
      "  RHS range        [1e+00, 2e+03]\n",
      "\n",
      "User MIP start did not produce a new incumbent solution\n",
      "User MIP start violates constraint R0 by 1853.000000000\n",
      "\n",
      "Set parameter Cuts to value 0\n",
      "Set parameter MIPGap to value 1e-05\n",
      "Set parameter Threads to value 1\n",
      "Set parameter Cuts to value 0\n",
      "Set parameter MIPGap to value 1e-05\n",
      "Set parameter Threads to value 1\n",
      "Set parameter Cuts to value 0\n",
      "Set parameter MIPGap to value 1e-05\n",
      "Set parameter Threads to value 1\n",
      "Set parameter Cuts to value 0\n",
      "Set parameter MIPGap to value 1e-05\n",
      "Set parameter Threads to value 1\n",
      "UB node=5221.433000336906 iter = 1\n",
      "\n",
      "Variable types: 4 continuous, 25 integer (25 binary)\n",
      "UB node=3712.15658799015 iter = 2\n",
      "\n",
      "UB node=3183.1891111416016 iter = 3\n",
      "\n",
      "\n",
      "Root relaxation: objective 1.536744e+03, 8 iterations, 0.00 seconds (0.00 work units)\n",
      "Another try with MIP start\n",
      "UB node=3053.8994911984087 iter = 6\n",
      "\n",
      "\n",
      "    Nodes    |    Current Node    |     Objective Bounds      |     Work\n",
      " Expl Unexpl |  Obj  Depth IntInf | Incumbent    BestBd   Gap | It/Node Time\n",
      "\n",
      "H    0     0                    3053.8994912 1536.74404  49.7%     -    0s\n",
      "     0     0 1536.74404    0    3 3053.89949 1536.74404  49.7%     -    0s\n",
      "     0     0 1624.61303    0    3 3053.89949 1624.61303  46.8%     -    0s\n",
      "UB node=2804.492457021675 iter = 12\n",
      "\n",
      "     0     0 1828.27600    0    6 3053.89949 1828.27600  40.1%     -    0s\n",
      "UB node=2765.7438449448723 iter = 42\n",
      "\n",
      "     0     2 1850.63723    0    8 3053.89949 1850.63723  39.4%     -    1s\n",
      "*   19    18              14    2892.8273304 2086.56499  27.9%   7.7    1s\n",
      "*   39    27               9    2852.9650871 2096.64854  26.5%   6.7    1s\n",
      "*  116    59              15    2831.3239310 2116.17536  25.3%   5.8    2s\n",
      "UB node=2696.862459494575 iter = 94\n",
      "\n",
      "*  283   121              15    2824.9860811 2289.11980  19.0%   5.8    2s\n",
      "*  284    84              14    2730.6882613 2289.11980  16.2%   5.8    2s\n",
      "*  732   192              14    2700.1746701 2448.00149  9.34%   5.8    3s\n",
      "UB node=2650.505000099046 iter = 139\n",
      "\n",
      "* 1213   114              14    2696.8624595 2596.89143  3.71%   5.9    3s\n",
      "* 1242    43              13    2650.5050001 2616.22804  1.29%   5.9    3s\n",
      "\n",
      "Cutting planes:\n",
      "  Lazy constraints: 536\n",
      "\n",
      "Explored 1295 nodes (7638 simplex iterations) in 3.95 seconds (0.32 work units)\n",
      "Thread count was 1 (of 8 available processors)\n",
      "\n",
      "Solution count 9: 2650.51 2696.86 2700.17 ... 3053.9\n",
      "\n",
      "Optimal solution found (tolerance 1.00e-05)\n",
      "Best objective 2.650505000099e+03, best bound 2.650505000099e+03, gap 0.0000%\n",
      "\n",
      "User-callback calls 3024, time in user-callback 3.12 sec\n",
      "y = [-0.0 -0.0 -0.0 -0.0 1.0; -0.0 -0.0 -0.0 -0.0 1.0; -0.0 -0.0 -0.0 -0.0 1.0; -0.0 -0.0 -0.0 -0.0 -0.0; -0.0 -0.0 -0.0 -0.0 -0.0]\n"
     ]
    }
   ],
   "source": [
    "solve_method = \"benders_lazyBp\"  #\"nlp\" \"iter_cuts\" \"lazy_cuts\" \"benders_lazy\" \"benders_iter\" \"bendersSH\" \"bendersWS\" \"bendersPK\"\n",
    "\n",
    "println(\"Starting $solve_method\")\n",
    "\n",
    "el = @CPUelapsed res = SSD.solve_ssd(directory*filename, [solve_method], 170);\n",
    "# el = @CPUelapsed res = SSD.solve_ssd(directory*filename, [\"\"])"
   ]
  },
  {
   "cell_type": "code",
   "execution_count": 33,
   "id": "89042777-1181-4a51-ab70-f8cf2aa9c3d2",
   "metadata": {},
   "outputs": [
    {
     "name": "stdout",
     "output_type": "stream",
     "text": [
      "1 - benders_lazyBp: of=2650.51, of_term1=677.58, of_term2=1456.42, of_term3=516.51, y=Any[5, 5, 5, 0, 0], CPU_t=3.422, nodes=144,\n",
      "        feas=0, opt=540, n_vars=29, n_cons=Any[67, 67], n_nodes=1295, n_tan=[170, 313]\n"
     ]
    }
   ],
   "source": [
    "println(\"$(split(filename,\".\")[1]) - $solve_method: of=$(res[1]), of_term1=$(res[2]), of_term2=$(res[3]), of_term3=$(res[4]), y=$(res[5]), CPU_t=$el, nodes=$(res[7].nIter),\n",
    "        feas=$(res[7].nFeasCuts), opt=$(res[7].nOptCuts), n_vars=$(res[end-4]), n_cons=$(res[end-3]), n_nodes=$(res[end-2]), n_tan=$(res[end])\")"
   ]
  },
  {
   "cell_type": "code",
   "execution_count": 21,
   "id": "98b2de97-ef69-40ad-a37d-d4b0a24f20c8",
   "metadata": {},
   "outputs": [
    {
     "data": {
      "text/plain": [
       "(30, 5, 5, 54)"
      ]
     },
     "execution_count": 21,
     "metadata": {},
     "output_type": "execute_result"
    }
   ],
   "source": [
    "data.I, data.J, data.k, data.t"
   ]
  },
  {
   "cell_type": "code",
   "execution_count": null,
   "id": "958a51ce-bb0d-4125-8565-7cb8e03418cc",
   "metadata": {},
   "outputs": [],
   "source": [
    "1 - lazy_cuts: of=2650.51, of_term1=677.58, of_term2=1456.44, of_term3=516.49, y=Any[5, 5, 5, 0, 0], CPU_t=0.547, nodes=8,\n",
    "        feas=64, opt=0, n_vars=865, n_cons=Any[5390], n_nodes=Any[1], n_tan=[170, 177]\n",
    "1 - benders_lazyBp_v2: of=2650.56, of_term1=677.58, of_term2=1456.08, of_term3=516.89, y=Any[5, 5, 5, 0, 0], CPU_t=9.375, nodes=804,\n",
    "        feas=3076, opt=1122, n_vars=269, n_cons=Any[4071, 4071], n_nodes=414, n_tan=[170, 563]"
   ]
  },
  {
   "cell_type": "code",
   "execution_count": null,
   "id": "c10d5956-642d-4e57-bbb0-fb45e70acec1",
   "metadata": {},
   "outputs": [],
   "source": [
    "5 - lazy_cuts: of=15528.71, of_term1=1882.36, of_term2=12410.45, of_term3=1235.9, y=Any[5, 5, 5, 5, 5], CPU_t=6.921, nodes=6,\n",
    "        feas=405, opt=0, n_vars=11365, n_cons=Any[72390], n_nodes=Any[1], n_tan=[170, 174]\n",
    "5 - iter_cuts: of=15528.72, of_term1=1882.36, of_term2=12410.44, of_term3=1235.91, y=Any[5, 5, 5, 5, 5], CPU_t=8.031, nodes=1,\n",
    "        feas=0, opt=0, n_vars=11365, n_cons=Any[72390], n_nodes=Any[1], n_tan=[170, 171]\n",
    "5 - benders_lazyBp: of=15528.75, of_term1=1882.36, of_term2=12410.48, of_term3=1235.9, y=Any[5, 5, 5, 5, 5], CPU_t=75.25, nodes=148,\n",
    "        feas=4362, opt=1429, n_vars=3319, n_cons=Any[54271, 54271], n_nodes=283, n_tan=[170, 237]\n",
    "5 - benders_lazyBp: of=15528.71, of_term1=1882.36, of_term2=12410.46, of_term3=1235.89, y=Any[5, 5, 5, 5, 5], CPU_t=42.313, nodes=120,\n",
    "        feas=0, opt=5832, n_vars=79, n_cons=Any[217, 217], n_nodes=1541, n_tan=[170, 279]"
   ]
  },
  {
   "cell_type": "code",
   "execution_count": 143,
   "id": "ae7c8738-6d49-40de-a2f7-6a32b0f52494",
   "metadata": {},
   "outputs": [
    {
     "data": {
      "text/plain": [
       "15640.17"
      ]
     },
     "execution_count": 143,
     "metadata": {},
     "output_type": "execute_result"
    }
   ],
   "source": [
    "1754.64+12410.53+1475"
   ]
  },
  {
   "cell_type": "code",
   "execution_count": 51,
   "id": "960526f3-8412-4050-8b3a-15bda71f38c4",
   "metadata": {},
   "outputs": [
    {
     "data": {
      "text/plain": [
       "1×54 Matrix{Float64}:\n",
       " 7618.0  7435.0  7596.0  7691.0  7560.0  …  7528.0  7720.0  7498.0  7407.0"
      ]
     },
     "execution_count": 51,
     "metadata": {},
     "output_type": "execute_result"
    }
   ],
   "source": [
    "sum(data.a,dims=1)"
   ]
  },
  {
   "cell_type": "code",
   "execution_count": 64,
   "id": "5227557a-ead8-416d-908f-271d8c1dd73d",
   "metadata": {},
   "outputs": [
    {
     "data": {
      "text/plain": [
       "1620.21"
      ]
     },
     "execution_count": 64,
     "metadata": {},
     "output_type": "execute_result"
    }
   ],
   "source": [
    "data.Q[4,1]"
   ]
  },
  {
   "cell_type": "code",
   "execution_count": 118,
   "id": "b97dd041-7084-45cd-af59-bf9032556b1d",
   "metadata": {},
   "outputs": [],
   "source": [
    "y=res[5]\n",
    "x=res[6];"
   ]
  },
  {
   "cell_type": "code",
   "execution_count": 139,
   "id": "66ece988-4f57-4b82-af50-5155e522ea6b",
   "metadata": {},
   "outputs": [
    {
     "data": {
      "text/plain": [
       "1535.0000000000052"
      ]
     },
     "execution_count": 139,
     "metadata": {},
     "output_type": "execute_result"
    }
   ],
   "source": [
    "# Calc the free cap\n",
    "x=res[6]\n",
    "j = 2\n",
    "max_dem_j = 0\n",
    "for t in 1:data.t\n",
    "    dem_j = sum(data.a[:,t]'*x[:,:,t],dims=1)\n",
    "    if dem_j[j] > max_dem_j\n",
    "        max_dem_j = dem_j[j]\n",
    "    end\n",
    "    # println(\"$t $()\") #, assert $(sum(data.a[:,t])) == $(sum(sum(data.a[:,t]'*x[:,:,t],dims=1)))\")\n",
    "end\n",
    "max_dem_j"
   ]
  },
  {
   "cell_type": "code",
   "execution_count": 140,
   "id": "8f9695d9-4e46-4197-ab52-36f02135fb92",
   "metadata": {},
   "outputs": [
    {
     "data": {
      "text/plain": [
       "(4860.62, 4860.62, 4860.62, 2430.31, 4860.62)"
      ]
     },
     "execution_count": 140,
     "metadata": {},
     "output_type": "execute_result"
    }
   ],
   "source": [
    "data.Q[1,5], data.Q[2,5], data.Q[3,5], data.Q[4,2], data.Q[5,5]\n",
    "# 2260.9,  1535,  2083,  1302, 1593"
   ]
  },
  {
   "cell_type": "code",
   "execution_count": 135,
   "id": "e248ec5f-c648-423b-b7d9-398669a46349",
   "metadata": {},
   "outputs": [
    {
     "data": {
      "text/plain": [
       "1754.6399999999999"
      ]
     },
     "execution_count": 135,
     "metadata": {},
     "output_type": "execute_result"
    }
   ],
   "source": [
    "dot(data.F, SSD.gen_y(data,res[5]))"
   ]
  },
  {
   "cell_type": "code",
   "execution_count": 136,
   "id": "fbdd71eb-4a98-4989-b812-134e9dff3af9",
   "metadata": {},
   "outputs": [
    {
     "data": {
      "text/plain": [
       "12410.484834940262"
      ]
     },
     "execution_count": 136,
     "metadata": {},
     "output_type": "execute_result"
    }
   ],
   "source": [
    "dot(data.C, x)"
   ]
  },
  {
   "cell_type": "code",
   "execution_count": 129,
   "id": "ae3f07e8-a96e-4171-8e8a-574df9d3384e",
   "metadata": {},
   "outputs": [
    {
     "data": {
      "text/plain": [
       "calc_con (generic function with 1 method)"
      ]
     },
     "execution_count": 129,
     "metadata": {},
     "output_type": "execute_result"
    }
   ],
   "source": [
    "function calc_con(data, y, x)\n",
    "    D = data.D\n",
    "    T = 1:data.t\n",
    "    J = 1:data.J\n",
    "    I = 1:data.I\n",
    "    λ = data.a\n",
    "    cv = data.cv\n",
    "    Q = data.Q\n",
    "    q = [Q[j,y[j]] for j in J]\n",
    "    # q[4]=Q[j,2]\n",
    "    Dt = [D/sum(λ[:,t]) for t in T]\n",
    "    Cong = []\n",
    "    for t in T\n",
    "        dem_j = sum(data.a[:,t]'*x[:,:,t],dims=1)\n",
    "        R_term = sum((1+cv^2)*(dem_j[j]/(q[j]-dem_j[j])) for j in J)\n",
    "        ρ_term = sum((1-cv^2)*(dem_j[j]/(q[j])) for j in J)\n",
    "        cong_t = 0.5*Dt[t]*(R_term+ρ_term)\n",
    "        push!(Cong, cong_t)\n",
    "    end\n",
    "    return Cong\n",
    "end"
   ]
  },
  {
   "cell_type": "code",
   "execution_count": 137,
   "id": "ff9671fa-65a2-4f8e-80a9-ad5c84a34aaa",
   "metadata": {},
   "outputs": [
    {
     "data": {
      "text/plain": [
       "54-element Vector{Any}:\n",
       " 27.415774928511425\n",
       " 26.178415243909722\n",
       " 27.125827920706275\n",
       " 27.28214833044362\n",
       " 27.273095502834003\n",
       " 27.51262429687213\n",
       " 27.342061621076454\n",
       " 27.39681089111671\n",
       " 27.34766916507656\n",
       " 27.25008072512758\n",
       " 27.275235484490317\n",
       " 27.36036101195968\n",
       " 26.8848571464156\n",
       "  ⋮\n",
       " 29.61999672416289\n",
       " 27.577281768939205\n",
       " 27.187282027214145\n",
       " 27.483881775438846\n",
       " 27.00468005761698\n",
       " 27.735911459353392\n",
       " 27.287164277169023\n",
       " 27.63037235664449\n",
       " 27.29765495740424\n",
       " 29.376299034036688\n",
       " 26.96995058536641\n",
       " 27.413422676730566"
      ]
     },
     "execution_count": 137,
     "metadata": {},
     "output_type": "execute_result"
    }
   ],
   "source": [
    "Cong_t = calc_con(data, res[5], res[6])"
   ]
  },
  {
   "cell_type": "code",
   "execution_count": 138,
   "id": "9da86881-4dd0-4ecd-b661-bc778a0a3478",
   "metadata": {},
   "outputs": [
    {
     "data": {
      "text/plain": [
       "1475.1439455799723"
      ]
     },
     "execution_count": 138,
     "metadata": {},
     "output_type": "execute_result"
    }
   ],
   "source": [
    "sum(Cong_t)"
   ]
  },
  {
   "cell_type": "code",
   "execution_count": 105,
   "id": "30e0ce45-2bd4-4125-846b-9f5521d5925e",
   "metadata": {},
   "outputs": [
    {
     "data": {
      "text/plain": [
       "1672.2256920629902"
      ]
     },
     "execution_count": 105,
     "metadata": {},
     "output_type": "execute_result"
    }
   ],
   "source": [
    "sum(Cong_t)"
   ]
  },
  {
   "cell_type": "code",
   "execution_count": 102,
   "id": "422d0db3-2ea0-4c51-9635-299ddb6f75de",
   "metadata": {},
   "outputs": [
    {
     "data": {
      "text/plain": [
       "1235.9033821821547"
      ]
     },
     "execution_count": 102,
     "metadata": {},
     "output_type": "execute_result"
    }
   ],
   "source": [
    "sum(Cong_t)"
   ]
  },
  {
   "cell_type": "code",
   "execution_count": null,
   "id": "e59ee749-4f6a-4747-86ea-6189fbb3e035",
   "metadata": {},
   "outputs": [],
   "source": [
    "1800.52"
   ]
  },
  {
   "cell_type": "markdown",
   "id": "db29ba7d-d74f-4f30-a2ea-cf33e0d1b532",
   "metadata": {
    "jp-MarkdownHeadingCollapsed": true
   },
   "source": [
    "## Is the solution correct?"
   ]
  },
  {
   "cell_type": "code",
   "execution_count": null,
   "id": "33d61c5d-51bc-43f2-8ccb-d3b19a95a503",
   "metadata": {},
   "outputs": [],
   "source": [
    "data0.I, data0.J, data0.k, data0.t"
   ]
  },
  {
   "cell_type": "code",
   "execution_count": null,
   "id": "c772aeb7-4beb-405b-b6a1-c17317e3a17d",
   "metadata": {},
   "outputs": [],
   "source": [
    "# Allocation decisions\n",
    "x = res[7]\n",
    "# Location decisions\n",
    "y = SSD.gen_y(data0, res[6]);"
   ]
  },
  {
   "cell_type": "markdown",
   "id": "264d7a31-9c89-41fb-ac61-9c6e8617b342",
   "metadata": {},
   "source": [
    "### Is feasible?"
   ]
  },
  {
   "cell_type": "code",
   "execution_count": null,
   "id": "31c6df60-ad9d-4e25-bbf2-4a99de20e2c5",
   "metadata": {},
   "outputs": [],
   "source": [
    "# See if the demand can be allocated with the given capacity"
   ]
  },
  {
   "cell_type": "code",
   "execution_count": null,
   "id": "7387106e-e974-4423-8082-6017d8ecefb7",
   "metadata": {},
   "outputs": [],
   "source": [
    "# Facility capacity constraint\n",
    "# For each time period, see the allocation of customers\n",
    "for t in 1:data0.t\n",
    "    sum(round.(x[:,:,t]'data0.a[:,t], digits=3) .> sum(y.*data0.Q,dims=2)) > 0 ? println(\"Bad for t=$t\") : println(\"Ok for t=$t\")\n",
    "end"
   ]
  },
  {
   "cell_type": "code",
   "execution_count": null,
   "id": "40834c62-e24b-4941-b525-7b8af78a993d",
   "metadata": {},
   "outputs": [],
   "source": [
    "# All the demand is assigned\n",
    "for t in 1:data0.t\n",
    "    for i in 1:data0.I\n",
    "        sum(x[i,j,t] for j in 1:data0.J) == 1 ? print(\"\") : println(\"Bad for node $i in t=$t\") #println(\"Ok for node $i in t=$t\")\n",
    "    end\n",
    "end"
   ]
  },
  {
   "cell_type": "code",
   "execution_count": null,
   "id": "623f6e3d-4d4b-462f-a119-9593ea19f760",
   "metadata": {},
   "outputs": [],
   "source": [
    "# Only one cap level selected\n",
    "for j in 1:data0.J\n",
    "    sum(y[j,k] for k in 1:data0.k) == 1 ? print(\"\") : sum(y[j,k] for k in 1:data0.k) == 0 ? print(\"\") : println(\"Bad for facility $j\")\n",
    "end"
   ]
  },
  {
   "cell_type": "markdown",
   "id": "90aef36c-f750-4182-a061-63e0ce93920e",
   "metadata": {},
   "source": [
    "# Plot de bounds"
   ]
  },
  {
   "cell_type": "code",
   "execution_count": null,
   "id": "576f72d6-f5d1-4d68-a3c5-1d50b4409e56",
   "metadata": {},
   "outputs": [],
   "source": [
    "#of (1), Fterm, Allocterm, Congterm, y (5), x, status, lb, ub, relax_iters (10), cuts_iters, n_vars, n_cons, n_nodes, tests_feas (15)\n",
    "ordered_lb = sort(res[8])\n",
    "ordered_ub = sort(res[9])\n",
    "\n",
    "of_val = 18049.4039\n",
    "\n",
    "# LB\n",
    "plot(0:res[7].nIter, collect(values(ordered_lb)), label=\"lb\",\n",
    "    size=(1000,400), markershape=:xcross, legend=:topleft)\n",
    "\n",
    "# UB\n",
    "plot!(0:res[7].nIter, collect(values(ordered_ub)), label=\"ub\",\n",
    "    size=(1000,400), markershape=:xcross, color=:red)\n",
    "\n",
    "# LP relaxation optimal\n",
    "# plot!(1:status.nIter, zeros(status.nIter).+of_val_rel, label=\"lp relax optimal\", color=:orange, linestyle = :dash)\n",
    "# Optimal\n",
    "plot!(1:res[7].nIter, zeros(res[7].nIter).+of_val, label=\"optimal\", color=:red, linestyle = :dash)\n",
    "\n",
    "ylims!(0, of_val*1.5)"
   ]
  },
  {
   "cell_type": "code",
   "execution_count": null,
   "id": "6f51edf3-e83f-47f1-a24b-3047eb6ced90",
   "metadata": {},
   "outputs": [],
   "source": [
    "# Instance Own/18_3 with bendersIter\n",
    "ordered_lb = sort(res[12])\n",
    "ordered_ub = sort(res[13])\n",
    "\n",
    "# of_val = 7555.2078\n",
    "# of_val_rel = 5951.6929\n",
    "# gaps = [10e-3, 5e-2, 10e-2]\n",
    "# refs = [of_val*(1-i) for i in gaps]\n",
    "plot(1:status.nIter, collect(values(ordered_lb))[2:end])#, label=\"lb\")#,\n",
    "    # size=(1000,400), markershape=:xcross, legend=:topleft)\n",
    "\n",
    "# LP relaxation optimal\n",
    "# plot!(1:status.nIter, zeros(status.nIter).+of_val_rel, label=\"lp relax optimal\", color=:orange, linestyle = :dash)\n",
    "# Optimal\n",
    "# plot!(1:status.nIter, zeros(status.nIter).+of_val, label=\"optimal\", color=:red, linestyle = :dash)\n",
    "# Gaps\n",
    "# for i in 1:length(gaps)\n",
    "#     gap = gaps[i]\n",
    "#     plot!(1:status.nIter, zeros(status.nIter).+refs[i], label=gap, linestyle = :dash)\n",
    "# end\n",
    "# plot!([res[end-1]+1,res[end-1]+1],[collect(values(ordered_lb))[1],of_val], label=\"start branching\", color=:black)\n",
    "\n",
    "# title!(\"I = 250, J = 10 with $solve_method - Papadakos (3h - time lim)\")\n",
    "\n",
    "# xlims!(0, 100)"
   ]
  },
  {
   "cell_type": "code",
   "execution_count": null,
   "id": "47e20166-c71e-4757-bb64-30efe773b5d9",
   "metadata": {},
   "outputs": [],
   "source": [
    "ordered_lb = sort(res[end-1])\n",
    "ordered_ub = sort(res[end]);\n",
    "# Instance Own/18_3 with benders_cb\n",
    "of_val = 7555.2078\n",
    "of_val_rel = 5070.6749\n",
    "gaps = [10e-3, 5e-2, 10e-2, round(abs(of_val-last(collect(values(ordered_ub)))/of_val),digits=2)]\n",
    "refs = [of_val*(1-i) for i in gaps]\n",
    "plot(1:status.nIter, collect(values(ordered_ub)), label=\"ub\",\n",
    "    size=(1000,400), markershape=:xcross, legend=:topleft)\n",
    "\n",
    "# LP relaxation optimal\n",
    "plot!(1:status.nIter, zeros(status.nIter).+of_val_rel, label=\"lp relax optimal\", color=:orange, linestyle = :dash)\n",
    "# Optimal\n",
    "plot!(1:status.nIter, zeros(status.nIter).+of_val, label=\"optimal\", color=:red, linestyle = :dash)\n",
    "# Gaps\n",
    "# for i in 1:length(gaps)\n",
    "#     gap = gaps[i]\n",
    "#     plot!(1:status.nIter, zeros(status.nIter).+refs[i], label=gap, linestyle = :dash)\n",
    "# end\n",
    "# plot!([res[end-1]+1,res[end-1]+1],[collect(values(ordered_lb))[1],of_val], label=\"start branching\", color=:black)\n",
    "\n",
    "title!(\"I = 250, J = 10 with $solve_method - Papadakos (163 s)\")\n",
    "\n",
    "xlims!(0, 100)"
   ]
  },
  {
   "cell_type": "code",
   "execution_count": null,
   "id": "34772cf2-7eda-4b0a-a0d2-db543b01aa63",
   "metadata": {},
   "outputs": [],
   "source": [
    "# Instance Own/6\n",
    "of_val = 1914.4834\n",
    "gaps = [10e-3, 5e-2, 10e-2, round(abs(of_val-ordered_lb[res[end-1]])/of_val,digits=2)]\n",
    "refs = [of_val*(1-i) for i in gaps]\n",
    "plot(1:status.nIter, collect(values(ordered_lb)), label=\"lb\",\n",
    "    size=(1000,400), markershape=:xcross)\n",
    "plot!(1:status.nIter, collect(values(ordered_ub)), label=\"ub\", markershape=:xcross)\n",
    "# ylims!(1500, 4000)\n",
    "# Optimal\n",
    "plot!(1:status.nIter, zeros(status.nIter).+of_val, label=\"optimal\", color=:red, linestyle = :dash, lw=1)\n",
    "# Gaps\n",
    "for i in 1:length(gaps)\n",
    "    gap = gaps[i]\n",
    "    plot!(1:status.nIter, zeros(status.nIter).+refs[i], label=gap, linestyle = :dash, lw=1)\n",
    "    annotate!(status.nIter, refs[i], text(\"$gap\", :left, 12, :black))\n",
    "end\n",
    "plot!([res[end-1]+1,res[end-1]+1],[collect(values(ordered_lb))[1],of_val], label=\"start branching\", color=:black)\n",
    "\n",
    "title!(\"I = 20, J = 3\")"
   ]
  },
  {
   "cell_type": "code",
   "execution_count": null,
   "id": "1de43085-6eeb-497d-8630-db9f8dee8fa7",
   "metadata": {},
   "outputs": [],
   "source": []
  },
  {
   "cell_type": "code",
   "execution_count": null,
   "id": "35952024-603f-4e88-b53c-3ed6fccec98b",
   "metadata": {},
   "outputs": [],
   "source": []
  },
  {
   "cell_type": "code",
   "execution_count": null,
   "id": "a3848b30-b9e1-4721-b673-3a824dd506f5",
   "metadata": {},
   "outputs": [],
   "source": []
  },
  {
   "cell_type": "code",
   "execution_count": null,
   "id": "bc314457-2472-40a5-bae5-528ac623e13b",
   "metadata": {},
   "outputs": [],
   "source": []
  },
  {
   "cell_type": "code",
   "execution_count": null,
   "id": "2e11a59a-de53-4b30-a564-560794dafca4",
   "metadata": {},
   "outputs": [],
   "source": []
  }
 ],
 "metadata": {
  "kernelspec": {
   "display_name": "Julia 1.10.2",
   "language": "julia",
   "name": "julia-1.10"
  },
  "language_info": {
   "file_extension": ".jl",
   "mimetype": "application/julia",
   "name": "julia",
   "version": "1.10.2"
  }
 },
 "nbformat": 4,
 "nbformat_minor": 5
}
