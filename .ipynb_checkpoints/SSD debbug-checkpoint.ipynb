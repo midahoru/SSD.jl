{
 "cells": [
  {
   "cell_type": "code",
   "execution_count": 1,
   "id": "ee5d1a6b-4032-4a1b-8cdb-1106dbe3df33",
   "metadata": {},
   "outputs": [
    {
     "name": "stderr",
     "output_type": "stream",
     "text": [
      "\u001b[32m\u001b[1mPrecompiling\u001b[22m\u001b[39m SSD\n",
      "\u001b[32m  ✓ \u001b[39mSSD\n",
      "  1 dependency successfully precompiled in 9 seconds. 66 already precompiled.\n"
     ]
    }
   ],
   "source": [
    "using Revise\n",
    "import SSD"
   ]
  },
  {
   "cell_type": "code",
   "execution_count": 2,
   "id": "5badd445-5a60-4db0-b02c-83099012d5fe",
   "metadata": {},
   "outputs": [],
   "source": [
    "using CPUTime\n",
    "using CSV\n",
    "using DataFrames\n",
    "using Dates\n",
    "using DelimitedFiles\n",
    "using Distributions\n",
    "using Distances\n",
    "using Gurobi\n",
    "using LinearAlgebra\n",
    "using Plots\n",
    "using Random"
   ]
  },
  {
   "cell_type": "code",
   "execution_count": null,
   "id": "0ae12e28-2bde-4477-a026-e39b5207844a",
   "metadata": {},
   "outputs": [],
   "source": [
    "using TimerOutputs\n",
    "\n",
    "# Create a TimerOutput, this is the main type that keeps track of everything.\n",
    "const to = TimerOutput()"
   ]
  },
  {
   "cell_type": "code",
   "execution_count": null,
   "id": "98b8b896-ba4f-4aba-9207-63bb2d657b3e",
   "metadata": {},
   "outputs": [],
   "source": [
    "function get_res(file)\n",
    "    extract = false\n",
    "    instance = \"\"\n",
    "    method = \"\"\n",
    "    lb = -99\n",
    "    ub = -99\n",
    "    cpu_t = -99\n",
    "    status = \"\"\n",
    "    iter = -99\n",
    "    mess = \"\"\n",
    "    backup = \"\"\n",
    "    i=1\n",
    "    open(file,\"r\") do f  \n",
    "        while !eof(f)\n",
    "            line = readline(f)\n",
    "            sline = split(line)\n",
    "            if i == 7\n",
    "                backup = line\n",
    "            end\n",
    "            if size(sline)[1] > 0\n",
    "                if extract==true\n",
    "                    if sline[1] == \"Instance:\"\n",
    "                        instance = split(split(sline[2], \"/\")[end],\".\")[1]\n",
    "                    elseif sline[1] == \"Method:\"\n",
    "                        method = sline[2]\n",
    "                    elseif sline[1] == \"LB:\"\n",
    "                        lb = parse(Float64,sline[2])\n",
    "                    elseif sline[1] == \"UB:\"\n",
    "                        ub = parse(Float64,sline[2])\n",
    "                    elseif sline[1] == \"CPU_t:\"\n",
    "                        cpu_t = parse(Float64,sline[2])\n",
    "                    elseif sline[1] == \"Status:\"\n",
    "                        status = sline[2]\n",
    "                    elseif sline[1] == \"Iter:\"\n",
    "                        iter = parse(Float64,sline[2])\n",
    "                    end\n",
    "                end\n",
    "                if sline[1] == \"RESULTS\"                \n",
    "                    extract = true\n",
    "                end\n",
    "                if sline[1] == \"slurmstepd:\"\n",
    "                    println(file)\n",
    "                    mess = join(sline[end-2:end-1],\" \")\n",
    "                    if backup != \"\"\n",
    "                        bk = split(backup,\":\")\n",
    "                        instance = split(bk[2],\",\")[1]\n",
    "                        method=bk[end]\n",
    "                        println(bk)\n",
    "                        println(instance)\n",
    "                        println(method)\n",
    "                    end\n",
    "                    return instance, method, lb, ub, cpu_t, status, iter, mess\n",
    "                end\n",
    "            end\n",
    "            i+=1\n",
    "        end\n",
    "    end\n",
    "    return instance, method, lb, ub, cpu_t, status, iter, mess\n",
    "end"
   ]
  },
  {
   "cell_type": "code",
   "execution_count": null,
   "id": "035af401-23a1-45f2-a827-f32dc94b32ca",
   "metadata": {},
   "outputs": [],
   "source": [
    "df_res1 = DataFrame(inst=String[], method=String[], lb=Float64[], ub=Float64[], cpu_t=Float64[],status=String[],iter=Float64[], error=String[])\n",
    "directory = \"results/\"\n",
    "files = readdir(directory)\n",
    "for filename in files\n",
    "# filename = \"ssd_1218114_1.out\"\n",
    "    # println(filename)\n",
    "    instance, method, lb, ub, cpu_t, status, iter, mess = get_res(directory*filename)\n",
    "    push!(df_res1, (instance, method, lb, ub, cpu_t, status, iter, mess));\n",
    "end"
   ]
  },
  {
   "cell_type": "code",
   "execution_count": null,
   "id": "af9325e4-5a3c-47d5-8ff6-1acece0ab2bc",
   "metadata": {},
   "outputs": [],
   "source": [
    "sort!(df_res1,[:inst])"
   ]
  },
  {
   "cell_type": "code",
   "execution_count": null,
   "id": "fadf7dee-5984-477d-a3a1-29e9094b657b",
   "metadata": {},
   "outputs": [],
   "source": [
    "CSV.write(\"results/results.csv\",df_res1)"
   ]
  },
  {
   "cell_type": "code",
   "execution_count": null,
   "id": "a1813ead-61fe-4f6b-bf2f-1ae3f302f379",
   "metadata": {},
   "outputs": [],
   "source": [
    "function extract_pmed(file)\n",
    "    open(file,\"r\") do f        \n",
    "        line = readline(f)\n",
    "        sline = split(line)\n",
    "        nJ = parse(Int64,sline[2])\n",
    "        nI = parse(Int64,sline[1]) - nJ\n",
    "        Icoords = Matrix{Float64}(undef, 2, nI)\n",
    "        Jcoords = Matrix{Float64}(undef, 2, nJ)\n",
    "        i = 1\n",
    "        do_J = true\n",
    "        while !eof(f)\n",
    "            line = readline(f)\n",
    "            sline = split(line)\n",
    "            if do_J\n",
    "                Jcoords[1,i] = parse(Float64,sline[1])\n",
    "                Jcoords[2,i] = parse(Float64,sline[2])\n",
    "                if i == nJ\n",
    "                    i = 0\n",
    "                    do_J = false\n",
    "                end\n",
    "            else\n",
    "                Icoords[1,i] = parse(Float64,sline[1])\n",
    "                Icoords[2,i] = parse(Float64,sline[2])\n",
    "            end\n",
    "            i += 1\n",
    "        end\n",
    "        return nI, nJ, Icoords, Jcoords\n",
    "    end    \n",
    "end"
   ]
  },
  {
   "cell_type": "code",
   "execution_count": null,
   "id": "34ae074b-b6d9-4bb7-bfdd-524205ac0479",
   "metadata": {},
   "outputs": [],
   "source": [
    "df = DataFrame(id=Int[], in_type=String[], nI=Int[], nJ=Int[], cv=Float64[], D=Int[], FLR=Float64[], FCR=Int[])\n",
    "\n",
    "params0 = SSD.default_params()\n",
    "data = SSD.default_data()\n",
    "\n",
    "coords_bounds=(0,100)\n",
    "r_bounds=(0.3, 0.4)\n",
    "k=5\n",
    "t=3\n",
    "a_bounds=(80,120)\n",
    "\n",
    "id = 1\n",
    "\n",
    "in_type = \"Own\"\n",
    "for (nI, nJ) in [(20,3), (50,10), (70,50)]\n",
    "    for cv in [0.5, 1, 1.5]\n",
    "        for D in [1, 10, 25, 50, 100]\n",
    "            for FLR in [0.4, 0.6, 0.8]\n",
    "                for FCR in [2,4,8,10]\n",
    "                    push!(df, (id, in_type, nI, nJ, cv, D, FLR, FCR));\n",
    "                    SSD.instance_gen(id, in_type, nI, nJ, coords_bounds, a_bounds, r_bounds, cv, D, k, t, FLR, FCR, params0)\n",
    "                    id += 1\n",
    "                end\n",
    "            end\n",
    "        end\n",
    "    end\n",
    "end\n",
    "\n",
    "in_type = \"p-med\"\n",
    "directory = \"instances/p-median/\"\n",
    "                # (90,10)   (185,15)        (275,25)     (372,30)      (2338, 700)\n",
    "for filename in [\"SJC1.dat\", \"SJC2.dat\", \"SJC3a.dat\", \"SJC4a.dat\"]#, \"p3038_700.dat\"]\n",
    "    file = directory*filename\n",
    "    nI, nJ, Icoords, Jcoords = extract_pmed(file)\n",
    "    for cv in [0.5, 1, 1.5]\n",
    "        for D in [1, 10, 25, 50, 100]\n",
    "            for FLR in [0.4, 0.6, 0.8]\n",
    "                for FCR in [2,4,8,10]\n",
    "                    push!(df, (id, in_type, nI, nJ, cv, D, FLR, FCR));\n",
    "                    SSD.instance_gen(id, in_type, nI, nJ, coords_bounds, a_bounds, r_bounds, cv, D, k, t, FLR, FCR, params0, Icoords, Jcoords)\n",
    "                    id += 1\n",
    "                end\n",
    "            end\n",
    "        end\n",
    "    end\n",
    "end"
   ]
  },
  {
   "cell_type": "code",
   "execution_count": null,
   "id": "f6a476f9-8d51-4233-a253-89dbf606946c",
   "metadata": {},
   "outputs": [],
   "source": [
    "CSV.write(\"instances/instances inventory.csv\",df)"
   ]
  },
  {
   "cell_type": "code",
   "execution_count": null,
   "id": "7cd8ed45-cd1a-448b-9b58-2d1827a87abc",
   "metadata": {
    "scrolled": true
   },
   "outputs": [],
   "source": [
    "df = DataFrame(id=Int[], in_type=String[], nI=Int[], nJ=Int[], cv=Float64[], D=Int[], FLR=Float64[], FCR=Int[])\n",
    "\n",
    "params0 = SSD.default_params()\n",
    "data = SSD.default_data()\n",
    "\n",
    "coords_bounds=(0,100)\n",
    "r_bounds=(0.3, 0.4)\n",
    "k=5\n",
    "t=3\n",
    "a_bounds=(80,120)\n",
    "\n",
    "id = 1\n",
    "\n",
    "in_type = \"Own\"\n",
    "for (nI, nJ) in [(450, 25), (1000, 400)] #[(20,3), (70,10), (250,10)]\n",
    "    for cv in [0.5, 1, 1.5]\n",
    "        for D in [55000, 72500]\n",
    "            for FLR in [0.6]\n",
    "                for FCR in [8]\n",
    "                    push!(df, (id, in_type, nI, nJ, cv, D, FLR, FCR));\n",
    "                    SSD.instance_gen(id, in_type, nI, nJ, coords_bounds, a_bounds, r_bounds, cv, D, k, t, FLR, FCR, params0)\n",
    "                    id += 1\n",
    "                end\n",
    "            end\n",
    "        end\n",
    "    end\n",
    "end"
   ]
  },
  {
   "cell_type": "code",
   "execution_count": null,
   "id": "28043f42-a018-4db7-991a-3f5bee82c958",
   "metadata": {},
   "outputs": [],
   "source": [
    "# params0 = SSD.default_params()\n",
    "# data = SSD.default_data()\n",
    "\n",
    "# coords_bounds=(0,100)\n",
    "# r_bounds=(0.3, 0.4)\n",
    "# k=5\n",
    "# t=3\n",
    "# a_bounds=(80,120)\n",
    "\n",
    "# for cv in [0.5, 1, 1.5]\n",
    "#     for D in [1, 10, 25, 50, 100]\n",
    "#             SSD.instance_gen(10, 3, coords_bounds, a_bounds, r_bounds, cv, D, k, t, 0.4, 2, params0)\n",
    "#     end\n",
    "# end"
   ]
  },
  {
   "cell_type": "code",
   "execution_count": null,
   "id": "a099ec19-5be5-4182-902c-6c09e9c5df59",
   "metadata": {},
   "outputs": [],
   "source": []
  },
  {
   "cell_type": "code",
   "execution_count": null,
   "id": "dcc6ff0b-6266-4d25-aba7-851d498d24aa",
   "metadata": {},
   "outputs": [],
   "source": []
  },
  {
   "cell_type": "code",
   "execution_count": null,
   "id": "8026af73-3423-43c6-823e-c63e2c7a4100",
   "metadata": {},
   "outputs": [],
   "source": []
  },
  {
   "cell_type": "code",
   "execution_count": null,
   "id": "12409223-64cd-46ef-8b98-e62dd20eed18",
   "metadata": {},
   "outputs": [],
   "source": []
  },
  {
   "cell_type": "code",
   "execution_count": null,
   "id": "90e73767-f7de-4f29-8f88-208653e73a29",
   "metadata": {},
   "outputs": [],
   "source": []
  },
  {
   "cell_type": "code",
   "execution_count": null,
   "id": "05b18bc1-829b-4065-b59d-1ee79f9dee6d",
   "metadata": {},
   "outputs": [],
   "source": []
  },
  {
   "cell_type": "markdown",
   "id": "f588d1aa-fa94-465a-90af-240fe32abaf6",
   "metadata": {},
   "source": [
    "# Solve 1 inst"
   ]
  },
  {
   "cell_type": "code",
   "execution_count": 146,
   "id": "1838acaf-e4a9-4f0e-94c1-27ab4853a620",
   "metadata": {},
   "outputs": [
    {
     "data": {
      "text/plain": [
       "\"1.txt\""
      ]
     },
     "execution_count": 146,
     "metadata": {},
     "output_type": "execute_result"
    }
   ],
   "source": [
    "directory = \"instances/Own/\"\n",
    "filename= \"1.txt\" #\"1.txt\" # \"25.txt\" # \"6.txt\"#\"18_3.txt\""
   ]
  },
  {
   "cell_type": "code",
   "execution_count": 148,
   "id": "9ebdd41a-e850-4c76-b370-8700818a4d76",
   "metadata": {},
   "outputs": [
    {
     "name": "stdout",
     "output_type": "stream",
     "text": [
      "\n",
      "instance file instances/Own/1.txt parsed successfully\n",
      "\n",
      "Starting benders"
     ]
    },
    {
     "name": "stderr",
     "output_type": "stream",
     "text": [
      "\u001b[91m\u001b[1m┌ \u001b[22m\u001b[39m\u001b[91m\u001b[1mError: \u001b[22m\u001b[39mFailed to revise C:\\Users\\m_hoyo\\OneDrive - Concordia University - Canada\\PhD\\Thesis\\service system design\\GitHub\\SSD.jl\\src\\benders.jl\n",
      "\u001b[91m\u001b[1m│ \u001b[22m\u001b[39m  exception = lowering returned an error, $(Expr(:error, \"optional positional arguments must occur at end around C:\\\\Users\\\\m_hoyo\\\\OneDrive - Concordia University - Canada\\\\PhD\\\\Thesis\\\\service system design\\\\GitHub\\\\SSD.jl\\\\src\\\\benders.jl:964\"))\n",
      "\u001b[91m\u001b[1m└ \u001b[22m\u001b[39m\u001b[90m@ Revise C:\\Users\\m_hoyo\\.julia\\packages\\Revise\\bAgL0\\src\\packagedef.jl:724\u001b[39m\n",
      "\u001b[33m\u001b[1m┌ \u001b[22m\u001b[39m\u001b[33m\u001b[1mWarning: \u001b[22m\u001b[39mThe running code does not match the saved version for the following files:\n",
      "\u001b[33m\u001b[1m│ \u001b[22m\u001b[39m\n",
      "\u001b[33m\u001b[1m│ \u001b[22m\u001b[39m  C:\\Users\\m_hoyo\\OneDrive - Concordia University - Canada\\PhD\\Thesis\\service system design\\GitHub\\SSD.jl\\src\\benders.jl\n",
      "\u001b[33m\u001b[1m│ \u001b[22m\u001b[39m\n",
      "\u001b[33m\u001b[1m│ \u001b[22m\u001b[39mIf the error was due to evaluation order, it can sometimes be resolved by calling `Revise.retry()`.\n",
      "\u001b[33m\u001b[1m│ \u001b[22m\u001b[39mUse Revise.errors() to report errors again. Only the first error in each file is shown.\n",
      "\u001b[33m\u001b[1m│ \u001b[22m\u001b[39mYour prompt color may be yellow until the errors are resolved.\n",
      "\u001b[33m\u001b[1m└ \u001b[22m\u001b[39m\u001b[90m@ Revise C:\\Users\\m_hoyo\\.julia\\packages\\Revise\\bAgL0\\src\\packagedef.jl:832\u001b[39m\n"
     ]
    },
    {
     "name": "stdout",
     "output_type": "stream",
     "text": [
      "\n",
      "Set parameter Username\n",
      "Academic license - for non-commercial use only - expires 2025-02-18\n",
      "\n",
      "----------------Starting iter 1 --------------------------\n",
      "----- Solving SP for [4, 2, 2] -----\n",
      "Set parameter MIPGap to value 1e-05\n",
      "Set parameter Threads to value 1\n",
      "Set parameter TimeLimit to value 10798.606\n",
      "Set parameter MIPGap to value 1e-05\n",
      "Set parameter Threads to value 1\n",
      "Set parameter TimeLimit to value 10798.602\n",
      "Set parameter MIPGap to value 1e-05\n",
      "Set parameter Threads to value 1\n",
      "Set parameter TimeLimit to value 10798.598\n",
      "----- Solving SP for [2, 4, 2] -----\n",
      "----- Solving SP for [2, 2, 4] -----\n",
      "----- Solving SP for [5, 5, 5] -----\n",
      "####### Contraction #######\n",
      "\n",
      "----------------Starting iter 2 --------------------------\n",
      "----- Retrieving sol for [4, 4, 4] -----\n",
      "####### Reflection #######\n",
      "\n",
      "----------------Starting iter 3 --------------------------\n",
      "----- Retrieving sol for [4, 2, 4] -----\n",
      "####### Contraction #######\n",
      "\n",
      "----------------Starting iter 4 --------------------------\n",
      "----- Retrieving sol for [4, 3, 4] -----\n",
      "####### Expansion #######\n",
      "\n",
      "----------------Starting iter 5 --------------------------\n",
      "----- Retrieving sol for [5, 2, 1] -----\n",
      "####### Contraction #######\n",
      "\n",
      "----------------Starting iter 6 --------------------------\n",
      "----- Retrieving sol for [4, 2, 1] -----\n",
      "####### Reflection #######\n",
      "\n",
      "----------------Starting iter 7 --------------------------\n",
      "----- Retrieving sol for [4, 2, 0] -----\n",
      "####### Shrink #######\n",
      "Shrinked the same, change to [5, 3, 0] instead of [4, 2, 2]\n",
      "Shrinked the same, change to [5, 3, 2] instead of [4, 2, 0]\n",
      "Shrinked the same, change to [5, 2, 1] instead of [4, 2, 1]\n",
      "\n",
      "----------------Starting iter 8 --------------------------\n",
      "----- Solving SP for [5, 3, 0] -----\n",
      "----- Solving SP for [5, 3, 2] -----\n",
      "----- Retrieving sol for [5, 2, 1] -----\n",
      "####### Reflection 2 #######\n",
      "\n",
      "----------------Starting iter 9 --------------------------\n",
      "----- Retrieving sol for [5, 1, 0] -----\n",
      "####### Reflection #######\n",
      "\n",
      "----------------Starting iter 10 --------------------------\n",
      "----- Retrieving sol for [5, 2, 0] -----\n",
      "####### Reflection #######\n",
      "\n",
      "----------------Starting iter 11 --------------------------\n",
      "----- Retrieving sol for [5, 2, 0] -----\n",
      "####### Reflection #######\n",
      "\n",
      "----------------Starting iter 12 --------------------------\n",
      "----- Retrieving sol for [5, 1, 0] -----\n",
      "####### Shrink #######\n",
      "Shrinked the same, change to [5, 2, 0] instead of [5, 1, 0]\n",
      "Shrinked the same, change to [4, 0, 0] instead of [5, 2, 0]\n",
      "Shrinked the same, change to [5, 0, 1] instead of [5, 2, 0]\n",
      "\n",
      "----------------Starting iter 13 --------------------------\n",
      "----- Retrieving sol for [5, 2, 0] -----\n",
      "----- Solving SP for [4, 0, 0] -----\n",
      "----- Solving SP for [5, 0, 1] -----\n",
      "####### Shrink #######\n",
      "Shrinked the same, change to [5, 1, 2] instead of [4, 0, 0]\n",
      "\n",
      "----------------Starting iter 14 --------------------------\n",
      "----- Retrieving sol for [5, 1, 0] -----\n",
      "----- Retrieving sol for [5, 0, 0] -----\n",
      "----- Solving SP for [5, 1, 2] -----\n",
      "####### Shrink #######\n",
      "Shrinked the same, change to [4, 1, 1] instead of [5, 0, 0]\n",
      "NM: Adding NM cut for [5, 0, 0]\n",
      "NM: Adding NM cut for [4, 1, 1]\n",
      "NM: Adding NM cut for [5, 0, 2]\n",
      "NM: Adding NM cut for [5, 0, 1]\n",
      "\n",
      "---- SOLVING RELAXATIONS ----\n",
      "\n"
     ]
    },
    {
     "ename": "LoadError",
     "evalue": "MethodError: no method matching benders_iter(::JuMP.Model, ::Dict{Any, Any}, ::Array{Float64, 3}, ::SSD.Data, ::SSD.SolverStatus, ::Float64, ::Dict{Any, Any}, ::Dict{Any, Any}, ::Int64, ::Float64, ::Vector{Any}, ::Int64, ::Bool, ::Matrix{Float64}, ::Int64, ::Float64, ::Int64)",
     "output_type": "error",
     "traceback": [
      "MethodError: no method matching benders_iter(::JuMP.Model, ::Dict{Any, Any}, ::Array{Float64, 3}, ::SSD.Data, ::SSD.SolverStatus, ::Float64, ::Dict{Any, Any}, ::Dict{Any, Any}, ::Int64, ::Float64, ::Vector{Any}, ::Int64, ::Bool, ::Matrix{Float64}, ::Int64, ::Float64, ::Int64)",
      "",
      "Stacktrace:",
      " [1] model_benders(data::SSD.Data, params::SSD.Parameters, status::SSD.SolverStatus, types::Vector{String})",
      "   @ SSD C:\\Users\\m_hoyo\\OneDrive - Concordia University - Canada\\PhD\\Thesis\\service system design\\GitHub\\SSD.jl\\src\\benders.jl:118",
      " [2] model_benders",
      "   @ C:\\Users\\m_hoyo\\OneDrive - Concordia University - Canada\\PhD\\Thesis\\service system design\\GitHub\\SSD.jl\\src\\benders.jl:3 [inlined]",
      " [3] solve_ssd(data::SSD.Data, params::SSD.Parameters, status::SSD.SolverStatus, solve_method::String)",
      "   @ SSD C:\\Users\\m_hoyo\\OneDrive - Concordia University - Canada\\PhD\\Thesis\\service system design\\GitHub\\SSD.jl\\src\\util.jl:41",
      " [4] top-level scope",
      "   @ C:\\Users\\m_hoyo\\.julia\\packages\\CPUTime\\bZJQO\\src\\CPUTime.jl:61"
     ]
    }
   ],
   "source": [
    "params0 = SSD.default_params()\n",
    "# params0.max_time = 60*5\n",
    "data0 = SSD.default_data()\n",
    "\n",
    "# Iterate over each instance\n",
    "SSD.read_file(directory*filename, data0)\n",
    "\n",
    "# Define the different cost levels\n",
    "cost_levels = [0.60, 0.85, 1, 1.15, 1.35]\n",
    "data0.F = SSD.gen_costs(data0, params0, cost_levels)\n",
    "# Define the different capacity levels\n",
    "cap_levels = [0.5, 0.75, 1, 1.25, 1.5]\n",
    "data0.Q = SSD.gen_caps(data0, params0, cap_levels)\n",
    "\n",
    "\n",
    "solve_method = \"benders\"#\"nlp\"#\"heur_LS\"#\"iter_cuts\"#\"lazy_cuts\"#\"bendersWS\"#\"heur_NM\"#\"heur_FB\" \"heur_NM\" - bendersPK\n",
    "println(\"Starting $solve_method\")\n",
    "status = SSD.init_solver_status()\n",
    "el = @CPUelapsed res = SSD.solve_ssd(data0, params0, status, solve_method)\n",
    "if solve_method == \"iter_cuts\"\n",
    "    println(\"$solve_method: lb=$(res[1]), ub=$(res[2]),\n",
    "        of_term1_lb=$(res[3]), of_term2_lb=$(res[4]), of_term3_lb=$(res[5]),\n",
    "        of_term1_ub=$(res[6]), of_term2_ub=$(res[7]), of_term3_ub=$(res[8]),\n",
    "        y=$(res[9]), CPU_t=$el\")\n",
    "elseif solve_method in [\"benders\", \"bendersWS1\", \"bendersWS2\", \"bendersMW\", \"bendersPK\", \"bendersSH\", \"bendersFC\", \"bendersIter\",\"bendersIterPK\"]\n",
    "    println(\"$solve_method: of=$(res[2]), of_term1=$(res[3]), of_term2=$(res[4]), of_term3=$(res[5]), y=$(res[6]), CPU_t=$el, nodes=$(res[9]),\n",
    "        feas=$(res[10]), opt=$(res[11])\")\n",
    "else\n",
    "    println(\"$solve_method: of=$(res[2]), of_term1=$(res[3]), of_term2=$(res[4]), of_term3=$(res[5]), y=$(res[6]), CPU_t=$el\")\n",
    "end"
   ]
  },
  {
   "cell_type": "code",
   "execution_count": null,
   "id": "825c304d-fc91-41e3-8efc-164b2094d0a8",
   "metadata": {},
   "outputs": [],
   "source": [
    "# 1: |I| = 20 / |J| = 3\n",
    "lazy_cuts: of=1176.759, of_term1=227.7617, of_term2=808.9833, of_term3=140.014, y=Any[5, 0, 3], CPU_t=1.313\n",
    "benders: of=1177.7676, of_term1=227.7617, of_term2=809.3407, of_term3=140.6652, y=Any[5, 0, 3], CPU_t=5.249, nodes=1,\n",
    "        feas=0, opt=28"
   ]
  },
  {
   "cell_type": "code",
   "execution_count": null,
   "id": "58068ee9-506e-47cf-a2ef-64808862951a",
   "metadata": {},
   "outputs": [],
   "source": [
    "# 18_3: |I| = 250 / |J| = 10\n",
    "lazy_cuts: of=7545.4853, of_term1=2397.9837, of_term2=4276.7046, of_term3=870.797, y=Any[0, 5, 4, 0, 5, 5, 3, 5, 4, 0], CPU_t=2.624"
   ]
  },
  {
   "cell_type": "code",
   "execution_count": null,
   "id": "3c06bad9-d31a-463f-916b-0b237a389ac0",
   "metadata": {},
   "outputs": [],
   "source": [
    "# 1: |I| = 20 / |J| = 3\n",
    "lazy_cuts: of=1176.759, of_term1=227.7617, of_term2=808.9833, of_term3=140.014, y=Any[5, 0, 3], CPU_t=0.063\n",
    "bendersIter: of=1177.6559, of_term1=227.7617, of_term2=809.6026, of_term3=140.2916, y=Any[5, 0, 3], CPU_t=1.359, nodes=32,\n",
    "        feas=0, opt=145\n",
    "bendersIterPK: of=1177.6559, of_term1=227.7617, of_term2=809.6026, of_term3=140.2916, y=Any[5, 0, 3], CPU_t=1.375, nodes=32,\n",
    "        feas=0, opt=145\n",
    "benders: of=1177.8293, of_term1=227.7617, of_term2=809.2944, of_term3=140.7732, y=Any[5, 0, 3], CPU_t=4.046, nodes=14,\n",
    "        feas=0, opt=66\n",
    "bendersPK: of=1177.8354, of_term1=227.7617, of_term2=809.2969, of_term3=140.7769, y=Any[5, 0, 3], CPU_t=0.75, nodes=11,\n",
    "        feas=0, opt=105"
   ]
  },
  {
   "cell_type": "code",
   "execution_count": null,
   "id": "7ea72c73-d89a-46e0-9df4-db3f481c3f84",
   "metadata": {},
   "outputs": [],
   "source": [
    "bendersIter: of=8406.3404, of_term1=1951.8766, of_term2=4651.7053, of_term3=1802.7585, y=Any[0, 3, 4, 0, 4, 3, 3, 1, 4, 0], CPU_t=381.984, nodes=125,\n",
    "        feas=7, opt=488"
   ]
  },
  {
   "cell_type": "code",
   "execution_count": null,
   "id": "d90985de-312a-4db5-a884-fca1c15b087a",
   "metadata": {},
   "outputs": [],
   "source": [
    "# 18_3: |I| = 250 / |J| = 10\n",
    "lazy_cuts: of=7545.4853, of_term1=2397.9837, of_term2=4276.7046, of_term3=870.797, y=Any[0, 5, 4, 0, 5, 5, 3, 5, 4, 0], CPU_t=2.657"
   ]
  },
  {
   "cell_type": "code",
   "execution_count": null,
   "id": "333105e3-80bb-4536-a0c7-05012606a120",
   "metadata": {},
   "outputs": [],
   "source": []
  },
  {
   "cell_type": "code",
   "execution_count": null,
   "id": "95d8ef93-a13d-45a8-93a0-7abc17668950",
   "metadata": {},
   "outputs": [],
   "source": [
    "status"
   ]
  },
  {
   "cell_type": "code",
   "execution_count": null,
   "id": "8697c50b-602a-4980-8711-3fbf628ed4bb",
   "metadata": {},
   "outputs": [],
   "source": [
    "bendersPK: of=7217.8524, of_term1=1762.8273, of_term2=4461.6048, of_term3=993.4203, y=Any[0, 5, 1, 0, 5, 5, 1, 1, 0, 1], CPU_t=288.984, nodes=56508,\n",
    "        feas=0, opt=1691"
   ]
  },
  {
   "cell_type": "code",
   "execution_count": null,
   "id": "b1d46999-95aa-4d15-ad07-6648093e1a3d",
   "metadata": {},
   "outputs": [],
   "source": [
    "bendersPK: of=6771.5134, of_term1=1877.1471, of_term2=4230.4162, of_term3=663.9501, y=Any[0, 5, 1, 5, 2, 5, 1, 1, 1, 1], CPU_t=256.11, nodes=46107,\n",
    "        feas=0, opt=1726"
   ]
  },
  {
   "cell_type": "code",
   "execution_count": null,
   "id": "ea9fc36b-6a15-4fb5-9151-957abff4152f",
   "metadata": {},
   "outputs": [],
   "source": [
    "nlp: of=7555.2371, of_term1=2397.9837, of_term2=4267.8033, of_term3=889.4501, y=Any[0, 5, 4, 0, 5, 5, 3, 5, 4, 0], CPU_t=35923.172\n",
    "heur_NM: of=7555.2075, of_term1=2397.9837, of_term2=4267.7405, of_term3=889.4834, y=[0, 5, 4, 0, 5, 5, 3, 5, 4, 0], CPU_t=62.36\n",
    "lazy_cuts: of=7545.4853, of_term1=2397.9837, of_term2=4276.7046, of_term3=870.797, y=Any[0, 5, 4, 0, 5, 5, 3, 5, 4, 0], CPU_t=3.157\n",
    "benders: of=6771.5128, of_term1=1877.1471, of_term2=4230.4447, of_term3=663.9211, y=Any[0, 5, 1, 5, 2, 5, 1, 1, 1, 1], CPU_t=89.125, nodes=66885,\n",
    "        feas=0, opt=1043"
   ]
  },
  {
   "cell_type": "code",
   "execution_count": null,
   "id": "50f2678f-f28b-4935-809a-29e00554e115",
   "metadata": {},
   "outputs": [],
   "source": [
    "289/60"
   ]
  },
  {
   "cell_type": "code",
   "execution_count": null,
   "id": "9127369a-90d5-49c6-ad8c-ff2bdfc2e2c4",
   "metadata": {},
   "outputs": [],
   "source": [
    "a=[[1,2,3], [0,0,0], [5,5,5]]"
   ]
  },
  {
   "cell_type": "code",
   "execution_count": null,
   "id": "4785a5a3-5ed3-4dd7-95bd-6e57b8399f22",
   "metadata": {},
   "outputs": [],
   "source": [
    "# Modify the selected element\n",
    "a[rand(1:length(a))] = [3,3,3]"
   ]
  },
  {
   "cell_type": "code",
   "execution_count": null,
   "id": "1d4e6dd5-5643-475c-aa75-5696b14f4d87",
   "metadata": {},
   "outputs": [],
   "source": [
    "isinteger(3)"
   ]
  },
  {
   "cell_type": "code",
   "execution_count": null,
   "id": "2f546cad-fec6-4274-8296-be7955e7d409",
   "metadata": {},
   "outputs": [],
   "source": [
    "a=[0.01,1,2,0.99]\n",
    "sum(abs.(a-round.(a)) .<= 10e-1) == length(a)"
   ]
  },
  {
   "cell_type": "code",
   "execution_count": null,
   "id": "ec0895b6-3700-49d9-8f52-bad904f91e6c",
   "metadata": {},
   "outputs": [],
   "source": [
    "isinteger.([0,1,2,0.99])"
   ]
  },
  {
   "cell_type": "markdown",
   "id": "db29ba7d-d74f-4f30-a2ea-cf33e0d1b532",
   "metadata": {},
   "source": [
    "## Is the solution correct?"
   ]
  },
  {
   "cell_type": "code",
   "execution_count": null,
   "id": "33d61c5d-51bc-43f2-8ccb-d3b19a95a503",
   "metadata": {},
   "outputs": [],
   "source": [
    "data0.I, data0.J, data0.k, data0.t"
   ]
  },
  {
   "cell_type": "code",
   "execution_count": null,
   "id": "c772aeb7-4beb-405b-b6a1-c17317e3a17d",
   "metadata": {},
   "outputs": [],
   "source": [
    "# Allocation decisions\n",
    "x = res[7]\n",
    "# Location decisions\n",
    "y = SSD.gen_y(data0, res[6]);"
   ]
  },
  {
   "cell_type": "markdown",
   "id": "42694209-7fe5-41a8-8efc-80dde48f81dc",
   "metadata": {},
   "source": [
    "### Are the cost ok?"
   ]
  },
  {
   "cell_type": "code",
   "execution_count": null,
   "id": "be324f19-f397-4354-9fb5-634e87f4c217",
   "metadata": {},
   "outputs": [],
   "source": [
    "# Fixed location cost\n",
    "dot(data0.F, y)"
   ]
  },
  {
   "cell_type": "code",
   "execution_count": null,
   "id": "1ee4b71b-8d6c-48f6-b505-3b147e48264d",
   "metadata": {},
   "outputs": [],
   "source": [
    "# Allocation cost\n",
    "dot(data0.C, x)"
   ]
  },
  {
   "cell_type": "code",
   "execution_count": null,
   "id": "8e01eae5-f5a4-4bd4-aefd-7bfe6a6dcfae",
   "metadata": {},
   "outputs": [],
   "source": [
    "ρ_h = SSD.ini_ρ_h(data0) \n",
    "μ = 0\n",
    "\n",
    "# Set-up cost\n",
    "Scost = dot(data.F, y)\n",
    "# Allocation cost\n",
    "Allcost = 0\n",
    "# Congestion cost\n",
    "Congcost = 0\n",
    "\n",
    "# Status\n",
    "stats = []\n",
    "\n",
    "primals = Dict()\n",
    "for t in 1:data0.t\n",
    "    primal_sp = SSD.ini_benders_sp_primal(y, data0, ρ_h, t, μ, params0, status)\n",
    "    primals[t] = primal_sp\n",
    "    sp_stat, sp_xval, sp_ρval, sp_Rval, sp_wval, sp_zval, sp_val, Cterm, Congterm, π1, π2, π41, π42, π61, π62, π8, π10, π11, π12 = SSD.benders_sp_primal(primal_sp, data0, ρ_h, t)\n",
    "    Allcost += Cterm\n",
    "    Congcost += Congterm\n",
    "    append(stats, sp_stat)\n",
    "end \n",
    "Scost, Allcost, Congcost"
   ]
  },
  {
   "cell_type": "code",
   "execution_count": null,
   "id": "6a6b396b-7464-424a-87dc-a819e362415b",
   "metadata": {},
   "outputs": [],
   "source": [
    "SSD.calc_cost_sp(y, data0, ρ_h, primals, μ)"
   ]
  },
  {
   "cell_type": "markdown",
   "id": "264d7a31-9c89-41fb-ac61-9c6e8617b342",
   "metadata": {},
   "source": [
    "### Is feasible?"
   ]
  },
  {
   "cell_type": "code",
   "execution_count": null,
   "id": "31c6df60-ad9d-4e25-bbf2-4a99de20e2c5",
   "metadata": {},
   "outputs": [],
   "source": [
    "# See if the demand can be allocated with the given capacity"
   ]
  },
  {
   "cell_type": "code",
   "execution_count": null,
   "id": "7387106e-e974-4423-8082-6017d8ecefb7",
   "metadata": {},
   "outputs": [],
   "source": [
    "# For each time period, see the allocation of customers\n",
    "for t in 1:data0.t\n",
    "    sum(x[:,:,t]'data0.a[:,t] .> sum(y.*data0.Q,dims=2)) > 0 ? println(\"Bad for t=$t\") : println(\"Ok for t=$t\")\n",
    "end"
   ]
  },
  {
   "cell_type": "code",
   "execution_count": null,
   "id": "e987d79a-f7d5-432f-b4d0-0aefe43e7b5e",
   "metadata": {},
   "outputs": [],
   "source": []
  },
  {
   "cell_type": "code",
   "execution_count": null,
   "id": "09a6aa5c-1f42-45a6-966c-10279ba0d829",
   "metadata": {},
   "outputs": [],
   "source": []
  },
  {
   "cell_type": "code",
   "execution_count": null,
   "id": "30db46e0-d05d-4e79-9691-cf83b1697729",
   "metadata": {},
   "outputs": [],
   "source": [
    "last(sort(res[12]),10)"
   ]
  },
  {
   "cell_type": "code",
   "execution_count": null,
   "id": "52183200-ffb6-4f50-877b-0359720b1852",
   "metadata": {},
   "outputs": [],
   "source": [
    "last(sort(res[13]),10)"
   ]
  },
  {
   "cell_type": "code",
   "execution_count": null,
   "id": "dbb609b7-eab1-401c-86a4-7405ecc88f20",
   "metadata": {},
   "outputs": [],
   "source": [
    "bendersIter: of=9616.535, of_term1=1481.9548, of_term2=5378.6252, of_term3=2755.955, y=Any[0, 0, 0, 0, 0, 0, 0, 0, 0, 0], CPU_t=71.984, nodes=100,\n",
    "        feas=9, opt=342"
   ]
  },
  {
   "cell_type": "code",
   "execution_count": null,
   "id": "d5c65ef7-66ca-4019-8642-ad00081b3cca",
   "metadata": {
    "scrolled": true
   },
   "outputs": [],
   "source": [
    "last(ordered_lb,20)"
   ]
  },
  {
   "cell_type": "code",
   "execution_count": null,
   "id": "6f51edf3-e83f-47f1-a24b-3047eb6ced90",
   "metadata": {},
   "outputs": [],
   "source": [
    "# Instance Own/18_3 with bendersIter\n",
    "ordered_lb = sort(res[12])\n",
    "ordered_ub = sort(res[13]);\n",
    "\n",
    "of_val = 7555.2078\n",
    "of_val_rel = 5951.6929\n",
    "gaps = [10e-3, 5e-2, 10e-2]#, round(abs(of_val-ordered_lb[res[end-1]])/of_val,digits=2)]\n",
    "refs = [of_val*(1-i) for i in gaps]\n",
    "plot(1:status.nIter, collect(values(ordered_lb)), label=\"lb\",\n",
    "    size=(1000,400), markershape=:xcross, legend=:topleft)\n",
    "\n",
    "# LP relaxation optimal\n",
    "plot!(1:status.nIter, zeros(status.nIter).+of_val_rel, label=\"lp relax optimal\", color=:orange, linestyle = :dash)\n",
    "# Optimal\n",
    "plot!(1:status.nIter, zeros(status.nIter).+of_val, label=\"optimal\", color=:red, linestyle = :dash)\n",
    "# Gaps\n",
    "# for i in 1:length(gaps)\n",
    "#     gap = gaps[i]\n",
    "#     plot!(1:status.nIter, zeros(status.nIter).+refs[i], label=gap, linestyle = :dash)\n",
    "# end\n",
    "plot!([res[end-1]+1,res[end-1]+1],[collect(values(ordered_lb))[1],of_val], label=\"start branching\", color=:black)\n",
    "\n",
    "title!(\"I = 250, J = 10 with $solve_method - Papadakos (3h - time lim)\")\n",
    "\n",
    "# xlims!(0, 100)"
   ]
  },
  {
   "cell_type": "code",
   "execution_count": null,
   "id": "47e20166-c71e-4757-bb64-30efe773b5d9",
   "metadata": {},
   "outputs": [],
   "source": [
    "ordered_lb = sort(res[end-1])\n",
    "ordered_ub = sort(res[end]);\n",
    "# Instance Own/18_3 with benders_cb\n",
    "of_val = 7555.2078\n",
    "of_val_rel = 5070.6749\n",
    "gaps = [10e-3, 5e-2, 10e-2, round(abs(of_val-last(collect(values(ordered_ub)))/of_val),digits=2)]\n",
    "refs = [of_val*(1-i) for i in gaps]\n",
    "plot(1:status.nIter, collect(values(ordered_ub)), label=\"ub\",\n",
    "    size=(1000,400), markershape=:xcross, legend=:topleft)\n",
    "\n",
    "# LP relaxation optimal\n",
    "plot!(1:status.nIter, zeros(status.nIter).+of_val_rel, label=\"lp relax optimal\", color=:orange, linestyle = :dash)\n",
    "# Optimal\n",
    "plot!(1:status.nIter, zeros(status.nIter).+of_val, label=\"optimal\", color=:red, linestyle = :dash)\n",
    "# Gaps\n",
    "# for i in 1:length(gaps)\n",
    "#     gap = gaps[i]\n",
    "#     plot!(1:status.nIter, zeros(status.nIter).+refs[i], label=gap, linestyle = :dash)\n",
    "# end\n",
    "# plot!([res[end-1]+1,res[end-1]+1],[collect(values(ordered_lb))[1],of_val], label=\"start branching\", color=:black)\n",
    "\n",
    "title!(\"I = 250, J = 10 with $solve_method - Papadakos (163 s)\")\n",
    "\n",
    "xlims!(0, 100)"
   ]
  },
  {
   "cell_type": "code",
   "execution_count": null,
   "id": "34772cf2-7eda-4b0a-a0d2-db543b01aa63",
   "metadata": {},
   "outputs": [],
   "source": [
    "# Instance Own/6\n",
    "of_val = 1914.4834\n",
    "gaps = [10e-3, 5e-2, 10e-2, round(abs(of_val-ordered_lb[res[end-1]])/of_val,digits=2)]\n",
    "refs = [of_val*(1-i) for i in gaps]\n",
    "plot(1:status.nIter, collect(values(ordered_lb)), label=\"lb\",\n",
    "    size=(1000,400), markershape=:xcross)\n",
    "plot!(1:status.nIter, collect(values(ordered_ub)), label=\"ub\", markershape=:xcross)\n",
    "# ylims!(1500, 4000)\n",
    "# Optimal\n",
    "plot!(1:status.nIter, zeros(status.nIter).+of_val, label=\"optimal\", color=:red, linestyle = :dash, lw=1)\n",
    "# Gaps\n",
    "for i in 1:length(gaps)\n",
    "    gap = gaps[i]\n",
    "    plot!(1:status.nIter, zeros(status.nIter).+refs[i], label=gap, linestyle = :dash, lw=1)\n",
    "    annotate!(status.nIter, refs[i], text(\"$gap\", :left, 12, :black))\n",
    "end\n",
    "plot!([res[end-1]+1,res[end-1]+1],[collect(values(ordered_lb))[1],of_val], label=\"start branching\", color=:black)\n",
    "\n",
    "title!(\"I = 20, J = 3\")"
   ]
  },
  {
   "cell_type": "code",
   "execution_count": null,
   "id": "6b2b0c01-36e6-4674-aa85-cef4f5db262c",
   "metadata": {
    "scrolled": true
   },
   "outputs": [],
   "source": [
    "plot(1:status.nIter, [collect(values(ordered_lb)) collect(values(ordered_ub))], label=[\"lb\" \"ub\"],\n",
    "    size=(1000,400), markershape=:xcross)\n",
    "# ylims!(1500, 4000)\n",
    "plot!(1:status.nIter, zeros(status.nIter).+1914.4834) #3649.0341)"
   ]
  },
  {
   "cell_type": "code",
   "execution_count": null,
   "id": "56120738-aaa5-4a50-936e-dbeb75decc87",
   "metadata": {},
   "outputs": [],
   "source": [
    "# Own 9\n",
    "lazy_cuts: of=1914.4834, of_term1=660.1081, of_term2=828.7458, of_term3=425.6295, y=Any[5, 3, 0], CPU_t=0.234\n",
    "benders: of=1959.8316, of_term1=801.0565, of_term2=858.3784, of_term3=300.3967, y=Any[5, 5, 0], CPU_t=0.141, nodes=3,\n",
    "        feas=0, opt=40\n",
    "\n",
    "# Own 8\n",
    "benders: of=5510.3143, of_term1=1661.3185, of_term2=2132.8105, of_term3=1716.1852, y=Any[1, 0, 0, 0, 1, 5, 4, 0, 4, 0], CPU_t=6.312, nodes=6936,\n",
    "        feas=21, opt=243\n",
    "lazy_cuts: of=3649.0341, of_term1=1705.6408, of_term2=1523.3316, of_term3=420.0617, y=Any[0, 0, 0, 0, 3, 4, 4, 4, 0, 5], CPU_t=31.703\n",
    "\n"
   ]
  },
  {
   "cell_type": "code",
   "execution_count": null,
   "id": "b687f360-7490-4035-a0f5-fdc9abbfd240",
   "metadata": {},
   "outputs": [],
   "source": [
    "x=[-3.6979166666666665 4.697916666666666 0.0; 0.0 1.0 0.0; 0.0 0.0 1.0; 0.0 1.0 0.0; 0.0 0.0 1.0; 1.0 0.0 0.0; 0.0 0.0 1.0; 0.0 1.0 0.0; 0.0 1.0 0.0; 0.0 0.0 1.0; 1.0 0.0 0.0; 0.0 0.0 1.0; 0.0 0.0 1.0; 0.0 0.0 1.0; 1.0 0.0 0.0; 0.0 -9.634408602150538 10.634408602150538; 0.0 0.0 1.0; 0.0 1.0 0.0; 0.0 0.0 1.0; 1.0 0.0 0.0]"
   ]
  },
  {
   "cell_type": "code",
   "execution_count": null,
   "id": "18718232-17b2-446e-b498-09c445f8f4b4",
   "metadata": {},
   "outputs": [],
   "source": [
    "lazy_cuts: of=895.9974, of_term1=394.1035, of_term2=501.3773, of_term3=0.5166, y=Any[1, 1, 3], CPU_t=1.375\n",
    "\n",
    "benders: of=949.9676, of_term1=448.7567, of_term2=501.0648, of_term3=0.1462, y=Any[1, 1, 5], CPU_t=0.249, nodes=17,\n",
    "        feas=15, opt=30"
   ]
  },
  {
   "cell_type": "code",
   "execution_count": null,
   "id": "9707912b-2b4b-48f0-890e-898d9937f89a",
   "metadata": {},
   "outputs": [],
   "source": [
    "y = [-0.0 -0.0 -0.0 -0.0 -0.0; -0.0 -0.0 -0.0 -0.0 -0.0; -0.0 -0.0 -0.0 -0.0 -0.0]\n",
    "x = [1.0 0.0 0.0; 0.0 1.0 0.0; 0.0 0.0 1.0; 0.0 1.0 0.0; 0.0 0.0 1.0; 1.0 0.0 0.0; 0.0 0.0 1.0; 0.0 1.0 0.0; 0.0 1.0 0.0; 0.0 0.0 1.0; 1.0 0.0 0.0; 0.0 0.0 1.0; 0.0 0.0 1.0; 0.0 0.0 1.0; 1.0 0.0 0.0; 0.0 1.0 0.0; 0.0 0.0 1.0; 0.0 1.0 0.0; 0.0 0.0 1.0; 1.0 0.0 0.0];"
   ]
  },
  {
   "cell_type": "code",
   "execution_count": null,
   "id": "33668358-23d1-487b-b382-dcfa1347b13a",
   "metadata": {},
   "outputs": [],
   "source": [
    "dot(data0.F, y)"
   ]
  },
  {
   "cell_type": "code",
   "execution_count": null,
   "id": "d24b2dd8-2dcd-435e-ad06-72c471bb421e",
   "metadata": {},
   "outputs": [],
   "source": [
    "sum(data0.C[i,j,t]*x[i,j] for i in 1:data0.I for j in 1:data0.J)"
   ]
  },
  {
   "cell_type": "code",
   "execution_count": null,
   "id": "d4fbc13d-cd3d-4a7b-8616-0803085fae2f",
   "metadata": {},
   "outputs": [],
   "source": [
    "# C1\n",
    "for j in 1:data0.J\n",
    "    println(\"$j: $(-sum(data0.a[i,t]*x[i,j] for i in 1:data0.I)) >= $(-sum(data0.Q[j,k]*y[j,k] for k in 1:data0.k))\")\n",
    "end"
   ]
  },
  {
   "cell_type": "code",
   "execution_count": null,
   "id": "62087384-e002-4c43-bc0f-5021f832ed34",
   "metadata": {},
   "outputs": [],
   "source": [
    "for j in 1:data0.J\n",
    "    println(\"$j: $(sum(data0.a[i,t]*x[i,j] for i in 1:data0.I))\")\n",
    "end"
   ]
  },
  {
   "cell_type": "code",
   "execution_count": null,
   "id": "ec2f6a19-f6b2-49e5-affc-7bf0fa43ce1a",
   "metadata": {},
   "outputs": [],
   "source": [
    "# Pi 1 a 12\n",
    "benders: of=604.2782, of_term1=0.0, of_term2=604.2775, of_term3=0.0008, y=Any[0, 0, 0], CPU_t=2.672, nodes=1,\n",
    "        feas=0, opt=15\n",
    "# Pi 9\n",
    "benders: of=1130.4119, of_term1=0.0, of_term2=1130.4144, of_term3=-0.0024, y=Any[0, 0, 0], CPU_t=2.297, nodes=0,\n",
    "        feas=15, opt=0"
   ]
  },
  {
   "cell_type": "code",
   "execution_count": null,
   "id": "3760f560-a857-499a-b7fd-f20e63f1d1fa",
   "metadata": {},
   "outputs": [],
   "source": [
    "# 600 new valid inequality\n",
    "benders: of=74561.0501, of_term1=23586.6244, of_term2=50953.9516, of_term3=20.4741, y=Any[0, 0, 5, 5, 5, 5, 1, 0, 0, 0], CPU_t=8.249, nodes=2048,\n",
    "        feas=0, opt=471\n",
    "bendersWS: of=74561.0434, of_term1=23586.6182, of_term2=50953.9944, of_term3=20.4309, y=Any[0, 0, 5, 5, 5, 5, 1, 0, 0, 0], CPU_t=6.421, nodes=3282,\n",
    "        feas=0, opt=391\n",
    "bendersMW: of=74561.0482, of_term1=23586.6244, of_term2=50953.9304, of_term3=20.4934, y=Any[0, 0, 5, 5, 5, 5, 1, 0, 0, 0], CPU_t=17.235, nodes=874,\n",
    "        feas=0, opt=618\n",
    "bendersPK: of=74561.0467, of_term1=23586.6244, of_term2=50953.9454, of_term3=20.4769, y=Any[0, 0, 5, 5, 5, 5, 1, 0, 0, 0], CPU_t=5.829, nodes=871,\n",
    "        feas=0, opt=611\n",
    "bendersSH: of=74560.9944, of_term1=23586.6246, of_term2=50953.8125, of_term3=20.5574, y=Any[0, 0, 5, 5, 5, 5, 1, 0, 0, 0], CPU_t=6.906, nodes=3031,\n",
    "        feas=0, opt=578\n",
    "bendersFC: of=74561.0496, of_term1=23586.6244, of_term2=50953.9287, of_term3=20.4965, y=Any[0, 0, 5, 5, 5, 5, 1, 0, 0, 0], CPU_t=7.344, nodes=855,\n",
    "        feas=0, opt=189\n",
    "\n",
    "# No new VI\n",
    "benders: of=74561.0501, of_term1=23586.6243, of_term2=50953.9091, of_term3=20.5168, y=Any[0, 0, 5, 5, 5, 5, 1, 0, 0, 0], CPU_t=5.828, nodes=5700,\n",
    "        feas=0, opt=548\n",
    "bendersWS: of=74561.0497, of_term1=23586.6246, of_term2=50953.8344, of_term3=20.5907, y=Any[0, 0, 5, 5, 5, 5, 1, 0, 0, 0], CPU_t=7.844, nodes=5364,\n",
    "        feas=0, opt=561\n",
    "bendersMW: of=74561.0501, of_term1=23586.6245, of_term2=50953.9612, of_term3=20.4644, y=Any[0, 0, 5, 5, 5, 5, 1, 0, 0, 0], CPU_t=10.719, nodes=1572,\n",
    "        feas=0, opt=470\n",
    "bendersPK: of=74561.0506, of_term1=23586.6244, of_term2=50953.9611, of_term3=20.4652, y=Any[0, 0, 5, 5, 5, 5, 1, 0, 0, 0], CPU_t=6.687, nodes=1203,\n",
    "        feas=0, opt=629\n",
    "bendersSH: of=74560.9951, of_term1=23586.6245, of_term2=50953.832, of_term3=20.5386, y=Any[0, 0, 5, 5, 5, 5, 1, 0, 0, 0], CPU_t=10.155, nodes=5851,\n",
    "        feas=0, opt=870\n",
    "bendersFC: of=74561.0501, of_term1=23586.6244, of_term2=50953.9124, of_term3=20.5133, y=Any[0, 0, 5, 5, 5, 5, 1, 0, 0, 0], CPU_t=11.922, nodes=1040,\n",
    "        feas=3, opt=222"
   ]
  },
  {
   "cell_type": "code",
   "execution_count": null,
   "id": "2cbf5237-59db-4ff8-bd03-9cfb005443f3",
   "metadata": {},
   "outputs": [],
   "source": [
    "# 253\n",
    "benders: of=2136.2163, of_term1=761.9652, of_term2=1370.4704, of_term3=3.7807, y=Any[1, 0, 0, 0, 0, 5, 5, 0, 5, 0], CPU_t=5.125\n",
    "bendersWS: of=2136.2164, of_term1=761.9652, of_term2=1370.4708, of_term3=3.7804, y=Any[1, 0, 0, 0, 0, 5, 5, 0, 5, 0], CPU_t=7.782\n",
    "bendersMW: of=2136.2163, of_term1=761.9652, of_term2=1370.4711, of_term3=3.78, y=Any[1, 0, 0, 0, 0, 5, 5, 0, 5, 0], CPU_t=27.078\n",
    "bendersPK: of=2136.2163, of_term1=761.9652, of_term2=1370.4725, of_term3=3.7786, y=Any[1, 0, 0, 0, 0, 5, 5, 0, 5, 0], CPU_t=4.36\n",
    "bendersSH: of=2136.2154, of_term1=761.9652, of_term2=1370.4701, of_term3=3.7801, y=Any[1, 0, 0, 0, 0, 5, 5, 0, 5, 0], CPU_t=6.938\n",
    "bendersFC: of=2136.2157, of_term1=761.9652, of_term2=1370.4698, of_term3=3.7807, y=Any[1, 0, 0, 0, 0, 5, 5, 0, 5, 0], CPU_t=8.531"
   ]
  },
  {
   "cell_type": "code",
   "execution_count": null,
   "id": "3cece9b2-5ad7-48e7-bad8-5f8aa4978b77",
   "metadata": {},
   "outputs": [],
   "source": [
    "# 600\n",
    "benders: of=74561.0501, of_term1=23586.6243, of_term2=50953.8793, of_term3=20.5466, y=Any[0, 0, 5, 5, 5, 5, 1, 0, 0, 0], CPU_t=4.531\n",
    "bendersWS: of=74561.0489, of_term1=23586.6242, of_term2=50953.9102, of_term3=20.5145, y=Any[0, 0, 5, 5, 5, 5, 1, 0, 0, 0], CPU_t=5.64\n",
    "bendersPK: of=74561.0492, of_term1=23586.6244, of_term2=50953.9351, of_term3=20.4897, y=Any[0, 0, 5, 5, 5, 5, 1, 0, 0, 0], CPU_t=7.265\n",
    "bendersSH: of=74560.9948, of_term1=23586.6253, of_term2=50953.9062, of_term3=20.4632, y=Any[0, 0, 5, 5, 5, 5, 1, 0, 0, 0], CPU_t=5.75\n",
    "bendersFC: of=74561.0505, of_term1=23586.6244, of_term2=50953.9369, of_term3=20.4892, y=Any[0, 0, 5, 5, 5, 5, 1, 0, 0, 0], CPU_t=10.453\n",
    "bendersMW: of=74561.0493, of_term1=23586.6247, of_term2=50953.9446, of_term3=20.4799, y=Any[0, 0, 5, 5, 5, 5, 1, 0, 0, 0], CPU_t=12.843"
   ]
  },
  {
   "cell_type": "code",
   "execution_count": null,
   "id": "577de541-c96c-4732-b325-00bfe16e71bb",
   "metadata": {},
   "outputs": [],
   "source": [
    "# OF mp, OF sum\n",
    "res[1], res[2]"
   ]
  },
  {
   "cell_type": "code",
   "execution_count": null,
   "id": "b5318156-423a-4d36-a2dd-75bb06708377",
   "metadata": {},
   "outputs": [],
   "source": [
    "# 74.561.0497\n",
    "res[3]+ res[4] + res[5]"
   ]
  },
  {
   "cell_type": "code",
   "execution_count": null,
   "id": "3b1755be-a604-4e26-8e7a-501381fed82b",
   "metadata": {},
   "outputs": [],
   "source": [
    "res[3], res[4] , res[5]"
   ]
  },
  {
   "cell_type": "code",
   "execution_count": null,
   "id": "d2d3f64d-3041-488f-b423-07bcc695e89b",
   "metadata": {},
   "outputs": [],
   "source": [
    "#235\n",
    "res[9], res[10], res[11]"
   ]
  },
  {
   "cell_type": "code",
   "execution_count": null,
   "id": "49747243-46f7-4beb-9267-7d4257581b58",
   "metadata": {},
   "outputs": [],
   "source": [
    "#600\n",
    "res[9], res[10], res[11]"
   ]
  },
  {
   "cell_type": "code",
   "execution_count": null,
   "id": "d1df0609-ed88-4afa-a27e-7a1dd442245a",
   "metadata": {},
   "outputs": [],
   "source": [
    "#600\n",
    "res[9], res[10], res[11]"
   ]
  },
  {
   "cell_type": "code",
   "execution_count": null,
   "id": "82951114-db75-4bbf-9282-f2f9f40e2e6e",
   "metadata": {},
   "outputs": [],
   "source": [
    "#235\n",
    "res[9], res[10], res[11]"
   ]
  },
  {
   "cell_type": "code",
   "execution_count": null,
   "id": "226724bd-faa8-45a7-b70d-563757d5b062",
   "metadata": {},
   "outputs": [],
   "source": [
    "#235\n",
    "res[9], res[10], res[11]"
   ]
  },
  {
   "cell_type": "code",
   "execution_count": null,
   "id": "a1eb9538-cbad-4981-958b-4dc33e0fc8ae",
   "metadata": {},
   "outputs": [],
   "source": [
    "#235\n",
    "res[9], res[10], res[11]"
   ]
  },
  {
   "cell_type": "code",
   "execution_count": null,
   "id": "c408b2e1-2245-4f9d-887e-57abe62b0eca",
   "metadata": {},
   "outputs": [],
   "source": [
    "#235\n",
    "res[9], res[10], res[11]"
   ]
  },
  {
   "cell_type": "code",
   "execution_count": null,
   "id": "d9c78a01-ea40-45b1-a105-15c7d30d1b8f",
   "metadata": {},
   "outputs": [],
   "source": [
    "# 404\n",
    "res[9], res[10], res[11]"
   ]
  },
  {
   "cell_type": "code",
   "execution_count": null,
   "id": "63f69bcd-7750-415f-a41d-53be03281e84",
   "metadata": {},
   "outputs": [],
   "source": [
    "#130 \n",
    "lazy_cuts: of=895.9974, of_term1=394.1035, of_term2=501.3766, of_term3=0.5173, y=Any[1, 1, 3], CPU_t=0.046\n",
    "benders: of=895.9974, of_term1=394.1035, of_term2=501.3747, of_term3=0.5191, y=Any[1, 1, 3], CPU_t=0.157\n",
    "# 200\n",
    "lazy_cuts: of=2301.6885, of_term1=1333.1643, of_term2=966.8477, of_term3=1.6765, y=Any[0, 0, 4, 5, 0, 0, 0, 1, 4, 1], CPU_t=11.296\n",
    "benders: of=2301.6881, of_term1=1333.1643, of_term2=966.8512, of_term3=1.673, y=Any[0, 0, 4, 5, 0, 0, 0, 1, 4, 1], CPU_t=8.094\n",
    "#235\n",
    "nlp: of=2136.2173, of_term1=761.9652, of_term2=1370.498, of_term3=3.754, y=Any[1, 0, 0, 0, 0, 5, 5, 0, 5, 0], CPU_t=43.626\n",
    "lazy_cuts: of=2136.2164, of_term1=761.9652, of_term2=1370.4727, of_term3=3.7785, y=Any[1, 0, 0, 0, 0, 5, 5, 0, 5, 0], CPU_t=3.532\n",
    "lazy_cuts: of=2136.2163, of_term1=761.9652, of_term2=1370.4722, of_term3=3.7789, y=Any[1, 0, 0, 0, 0, 5, 5, 0, 5, 0], CPU_t=10.0\n",
    "benders: of=2136.2154, of_term1=761.9652, of_term2=1370.4699, of_term3=3.7811, y=Any[1, 0, 0, 0, 0, 5, 5, 0, 5, 0], CPU_t=2.953\n",
    "bendersSH: of=2076.9208, of_term1=761.9652, of_term2=1313.2436, of_term3=1.7122, y=Any[1, 0, 0, 0, 0, 5, 5, 0, 5, 0], CPU_t=2.937\n",
    "\n",
    "# 404\n",
    "lazy_cuts: of=6473.8752, of_term1=5017.8601, of_term2=1441.3593, of_term3=14.6558,\n",
    "y=Any[5, 0, 0, 0, 0, 5, 0, 0, 5, 0, 0, 0, 5, 1, 0, 0, 5, 0, 5, 0, 5, 0, 5, 0, 0, 5, \n",
    "    5, 5, 0, 0, 0, 0, 0, 0, 0, 0, 0, 5, 5, 0, 0, 5, 0, 0, 0, 0, 0, 5, 0, 4], CPU_t=469.5\n",
    "\n",
    "benders: of=6312.4219, of_term1=4879.4955, of_term2=1466.0399, of_term3=454.4843,\n",
    "y=Any[5, 0, 0, 0, 0, 5, 0, 0, 5, 0, 0, 0, 5, 0, 0, 0, 5, 0, 5, 0, 5, 0, 5, 0, 0, 5,\n",
    "    5, 0, 5, 0, 0, 0, 0, 0, 0, 0, 0, 5, 5, 0, 0, 5, 0, 0, 0, 0, 0, 5, 0, 5], CPU_t=2559.781"
   ]
  },
  {
   "cell_type": "code",
   "execution_count": null,
   "id": "1fbd8e5d-b2a0-46b5-bed5-2885062c7522",
   "metadata": {},
   "outputs": [],
   "source": []
  },
  {
   "cell_type": "code",
   "execution_count": null,
   "id": "9c5ab5a0-56ad-4f5d-8270-79b1c9762e2b",
   "metadata": {},
   "outputs": [],
   "source": [
    "xlc = res[7]\n",
    "ylc = res[6];"
   ]
  },
  {
   "cell_type": "code",
   "execution_count": null,
   "id": "c6335ad5-8fb6-490d-8f67-f15e3285645f",
   "metadata": {},
   "outputs": [],
   "source": [
    "xben = res[7]\n",
    "yben = res[6];"
   ]
  },
  {
   "cell_type": "code",
   "execution_count": null,
   "id": "44c9ae3d-032c-4260-8ca7-f4adacbe49b2",
   "metadata": {},
   "outputs": [],
   "source": [
    "# Are equal?\n",
    "xben == xlc"
   ]
  },
  {
   "cell_type": "code",
   "execution_count": null,
   "id": "95ba7de2-fd55-4d55-acc9-72c20f3fedb7",
   "metadata": {},
   "outputs": [],
   "source": [
    "# Assignation cost\n",
    "dot(data0.C,xben[:,:,:]), dot(data0.C,xlc[:,:,:])"
   ]
  },
  {
   "cell_type": "code",
   "execution_count": null,
   "id": "378f7519-d5d4-4105-8adf-941f49beff64",
   "metadata": {},
   "outputs": [],
   "source": [
    "t=1"
   ]
  },
  {
   "cell_type": "code",
   "execution_count": null,
   "id": "e289f3b4-2a81-42b9-93cc-3d34486df0a9",
   "metadata": {},
   "outputs": [],
   "source": [
    "# Demand per facility Bend\n",
    "demben = sum(data0.a[:,t] .* xben[:,:,t], dims = 1)"
   ]
  },
  {
   "cell_type": "code",
   "execution_count": null,
   "id": "f6d70be9-8027-430b-8590-4ecc92099a1d",
   "metadata": {},
   "outputs": [],
   "source": [
    "# Cap available Benders\n",
    "capben = sum(data0.Q .* SSD.gen_y(data0,yben), dims=2)'"
   ]
  },
  {
   "cell_type": "code",
   "execution_count": null,
   "id": "b43c8ad3-fa1c-4ca5-9d50-5ec7c4758fe2",
   "metadata": {},
   "outputs": [],
   "source": [
    "demben .<= capben"
   ]
  },
  {
   "cell_type": "code",
   "execution_count": null,
   "id": "449ff29b-d7e7-4fbc-9033-93857c10ca21",
   "metadata": {},
   "outputs": [],
   "source": [
    "# Demand per facility Lazy Cuts\n",
    "demlc = sum(data0.a[:,t] .* xlc[:,:,t], dims = 1)"
   ]
  },
  {
   "cell_type": "code",
   "execution_count": null,
   "id": "d0b76f0f-462a-4773-a1f4-9c07041cd1e2",
   "metadata": {},
   "outputs": [],
   "source": [
    "# Cap available Lazy\n",
    "caplc = sum(data0.Q .* SSD.gen_y(data0,ylc), dims=2)'"
   ]
  },
  {
   "cell_type": "code",
   "execution_count": null,
   "id": "650e236a-6b1f-4a18-bae6-77b87665deb6",
   "metadata": {},
   "outputs": [],
   "source": [
    "demlc .<= caplc"
   ]
  },
  {
   "cell_type": "code",
   "execution_count": null,
   "id": "7722da29-8e1c-41e0-b278-4b65cbd81217",
   "metadata": {},
   "outputs": [],
   "source": []
  },
  {
   "cell_type": "code",
   "execution_count": null,
   "id": "d7f428fb-e51d-475d-a64d-b8b23a808bdd",
   "metadata": {},
   "outputs": [],
   "source": []
  },
  {
   "cell_type": "code",
   "execution_count": null,
   "id": "eae6752e-6031-4667-9fdb-10b1f9449df3",
   "metadata": {},
   "outputs": [],
   "source": []
  },
  {
   "cell_type": "code",
   "execution_count": null,
   "id": "2e8f77e0-c339-434c-b1a3-ef49a8b1e02d",
   "metadata": {},
   "outputs": [],
   "source": [
    "ini_ρ_h = collect(range(0.1,step=0.1,0.9))\n",
    "H = 1:length(ini_ρ_h)\n",
    "ρ_h = Array{Float64}(undef,data0.J,data0.t,length(ini_ρ_h))\n",
    "\n",
    "for j in 1:data0.J, t in 1:data0.t, h in H\n",
    "    ρ_h[j, t, h]= ini_ρ_h[h]\n",
    "end"
   ]
  },
  {
   "cell_type": "markdown",
   "id": "a9f0c02e-da51-4b9e-8e9d-55e8b96e4aa0",
   "metadata": {},
   "source": [
    "# Are all the methods correct?"
   ]
  },
  {
   "cell_type": "markdown",
   "id": "164bc641-70a3-4e03-af39-be202d472a92",
   "metadata": {},
   "source": [
    "See if the x are feasibles"
   ]
  },
  {
   "cell_type": "code",
   "execution_count": null,
   "id": "1ab15db8-7b1d-4164-9908-a76f02918f82",
   "metadata": {},
   "outputs": [],
   "source": [
    "SSD.gen_y(data0, res[6])"
   ]
  },
  {
   "cell_type": "code",
   "execution_count": null,
   "id": "002dc649-3d6f-42e5-8002-8bd17c32d458",
   "metadata": {
    "scrolled": true
   },
   "outputs": [],
   "source": [
    "sum(data0.Q .* SSD.gen_y(data0, res[6]), dims=2)"
   ]
  },
  {
   "cell_type": "code",
   "execution_count": null,
   "id": "44f74533-9dc2-400a-9528-afd64e2b1c18",
   "metadata": {},
   "outputs": [],
   "source": [
    "t = 1\n",
    "mat = data0.a[:,t] .* res[7].data[:,:,t]\n",
    "# mat = data0.a[:,t] .* res[7][:,:,t]\n",
    "sum(mat, dims=1)"
   ]
  },
  {
   "cell_type": "code",
   "execution_count": null,
   "id": "21ed2849-9e4a-49e6-992e-4c5243774de9",
   "metadata": {
    "scrolled": true
   },
   "outputs": [],
   "source": [
    "# X benders\n",
    "x_benders = res[7]"
   ]
  },
  {
   "cell_type": "code",
   "execution_count": null,
   "id": "92e05e62-3f83-41a7-9e3f-ffbd1a994559",
   "metadata": {
    "scrolled": true
   },
   "outputs": [],
   "source": [
    "# X lazy cuts\n",
    "x_lazy_cuts = res[7].data"
   ]
  },
  {
   "cell_type": "code",
   "execution_count": null,
   "id": "1abd9d3a-08db-4d43-9688-e5e9e3c89ce1",
   "metadata": {},
   "outputs": [],
   "source": [
    "# X lazy cuts vs benders\n",
    "t = 3\n",
    "x_lazy_cuts[:,:,t].==x_benders[:,:,t]"
   ]
  },
  {
   "cell_type": "code",
   "execution_count": null,
   "id": "4cc00756-6b67-47ea-9b86-fbb2e6421809",
   "metadata": {},
   "outputs": [],
   "source": [
    "x_lazy_cuts[:,:,t]"
   ]
  },
  {
   "cell_type": "code",
   "execution_count": null,
   "id": "4f7924c5-82db-4ff7-b49f-c06027c9762d",
   "metadata": {},
   "outputs": [],
   "source": [
    "x_benders[:,:,t]"
   ]
  },
  {
   "cell_type": "code",
   "execution_count": null,
   "id": "d7f16f3d-96f0-4e50-b8d8-710bf0c67a82",
   "metadata": {},
   "outputs": [],
   "source": [
    "# Iterative cuts"
   ]
  },
  {
   "cell_type": "code",
   "execution_count": null,
   "id": "b27985a1-0137-4060-a75d-10c57464093d",
   "metadata": {},
   "outputs": [],
   "source": [
    "sum(data0.Q .* SSD.gen_y(data0, res[9]), dims=2)"
   ]
  },
  {
   "cell_type": "code",
   "execution_count": null,
   "id": "0f5fbd4e-060b-46c7-92b3-ee9d0f003191",
   "metadata": {},
   "outputs": [],
   "source": [
    "t = 1\n",
    "mat = data0.a[:,t] .* res[10].data[:,:,t]\n",
    "sum(mat, dims=1)"
   ]
  },
  {
   "cell_type": "code",
   "execution_count": null,
   "id": "4e9d63f8-f6c6-413f-8402-3e25f5f72c28",
   "metadata": {},
   "outputs": [],
   "source": []
  },
  {
   "cell_type": "code",
   "execution_count": null,
   "id": "aafc61ac-c5a0-4495-a44d-9c542533c15a",
   "metadata": {},
   "outputs": [],
   "source": []
  },
  {
   "cell_type": "code",
   "execution_count": null,
   "id": "6b547c8e-9866-4fe4-8be8-14d993d9eca2",
   "metadata": {},
   "outputs": [],
   "source": []
  },
  {
   "cell_type": "code",
   "execution_count": null,
   "id": "a283ddbf-a7be-4ddf-88ab-f937597fa2d5",
   "metadata": {},
   "outputs": [],
   "source": []
  },
  {
   "cell_type": "code",
   "execution_count": null,
   "id": "3eb0680f-5c21-4eb8-978e-9400ac36483b",
   "metadata": {},
   "outputs": [],
   "source": []
  },
  {
   "cell_type": "code",
   "execution_count": null,
   "id": "fdd56e4b-90a9-4aa0-86b8-71b3cad861d6",
   "metadata": {},
   "outputs": [],
   "source": [
    "repeat([\"Own\"],4)"
   ]
  },
  {
   "cell_type": "markdown",
   "id": "9d1200b7-03f0-4545-aef3-6f70bb5aa9d9",
   "metadata": {},
   "source": [
    "# Solver several instances for several methods"
   ]
  },
  {
   "cell_type": "code",
   "execution_count": null,
   "id": "b5031d82-85f0-43f3-8e08-d62c0c801bf0",
   "metadata": {},
   "outputs": [],
   "source": [
    "directory = \"instances/Own/\"\n",
    "filename=\"130.txt\"\n",
    "\"\"\"\n",
    "Type    I    J\n",
    "Own\n",
    "130     20   3\n",
    "235     50   10\n",
    "404     70   50\n",
    "\n",
    "p-med\n",
    "600     90   10    \n",
    "\"\"\"\n",
    "\n",
    "# instances = [\"instances/Own/130.txt\", \"instances/Own/235.txt\", \"instances/Own/404.txt\", \"instances/p-med/550.txt\"]\n",
    "instances = [\"130.txt\", \"235.txt\", \"404.txt\", \"600.txt\"]\n",
    "instances = [\"13.txt\",\"14.txt\",\"15.txt\",\"16.txt\",\"17.txt\",\"18.txt\"]\n",
    "instances = [\"18_3.txt\"] #, \"18_2.txt\", \"18_3.txt\"]\n",
    "# instances = [\"130.txt\"]\n",
    "directories = repeat([\"instances/Own/\"],length(instances)) #[\"instances/Own/\", \"instances/Own/\", \"instances/Own/\"]\n",
    "results = []\n",
    "results_benders = []\n",
    "\n",
    "col_names_res = [\"I\",\"J\",\"cv\",\"D\",\"instance\",\"method\",\"of\", \"FC\", \"AC\", \"CC\", \"y\",\"CPU_t_s\", \"status\"]\n",
    "push!(results, [i for i in col_names_res])\n",
    "\n",
    "col_names_benders = [\"I\",\"J\",\"cv\",\"D\",\"instance\",\"method\",\"of\", \"FC\", \"AC\", \"CC\",\"y\",\"nodes\",\"f_cut\",\"opt_cut\",\"CPU_t_s\", \"status\"]\n",
    "push!(results_benders, [i for i in col_names_benders])\n",
    "\n",
    "for (instance, directory) in zip(instances,directories)\n",
    "\n",
    "    params0 = SSD.default_params()\n",
    "    data0 = SSD.default_data()\n",
    "    \n",
    "    # Iterate over each instance\n",
    "    SSD.read_file(directory*instance, data0)\n",
    "    \n",
    "    # Define the different cost levels\n",
    "    cost_levels = [0.60, 0.85, 1, 1.15, 1.35]\n",
    "    data0.F = SSD.gen_costs(data0, params0, cost_levels)\n",
    "    # Define the different capacity levels\n",
    "    cap_levels = [0.5, 0.75, 1, 1.25, 1.5]\n",
    "    data0.Q = SSD.gen_caps(data0, params0, cap_levels)\n",
    "    \n",
    "    for solve_method in [\"bendersIter\"]#[\"iter_cuts\",\"lazy_cuts\",\"benders\", \"bendersPK\",\"bendersIter\"]#[\"iter_cuts\",\"lazy_cuts\",\"benders\",\"bendersWS1\",\"bendersWS2\", \"bendersMW\", \"bendersPK\", \"bendersSH\", \"bendersFC\", \"heur_NM\", \"heur_FB\"]#[\"nlp\", \"iter_cuts\", \"lazy_cuts\", \"benders\", \"bendersWS\",\"bendersMW\", \"bendersPK\", \"bendersSH\", \"heur_NM\", \"heur_FB\"]#\n",
    "        println(\"\")\n",
    "        println(\"Starting $solve_method\")\n",
    "        status = SSD.init_solver_status()\n",
    "        try\n",
    "            el = @CPUelapsed res = SSD.solve_ssd(data0, params0, status, solve_method)\n",
    "            println(\"$solve_method: of=$(res[1]), of_term1=$(res[3]), of_term2=$(res[4]), of_term3=$(res[5]), y=$(res[6])\")\n",
    "            if solve_method == \"iter_cuts\"\n",
    "                push!(results, (data0.I, data0.J, data0.cv, data0.D, instance, solve_method, (\"$(res[1]) - $(res[2])\"), (\"$(res[3]) - $(res[6])\"), (\"$(res[4]) - $(res[7])\"), (\"$(res[5]) - $(res[8])\"), \"$([i for i in res[9]])\", el, res[11]))\n",
    "            else\n",
    "                push!(results, (data0.I, data0.J, data0.cv, data0.D, instance, solve_method, res[1], res[3], res[4], res[5], \"$([i for i in res[6]])\", el, res[8]))\n",
    "            end\n",
    "            if solve_method in [\"benders\", \"bendersWS\", \"bendersMW\", \"bendersPK\", \"bendersSH\", \"bendersFC\",\"bendersIter\"]\n",
    "                push!(results_benders, (data0.I, data0.J, data0.cv, data0.D, instance, solve_method, res[1], res[3], res[4], res[5], \"$([i for i in res[6]])\", res[9], res[10], res[11], el, res[8]))\n",
    "            end\n",
    "        catch e\n",
    "            push!(results, (data0.I, data0.J, data0.cv, data0.D, instance, solve_method, \"error\", \"\", \"\", \"\", \"\", \"\", \"\"))\n",
    "        end\n",
    "        println(status.endStatus)\n",
    "    end\n",
    "end"
   ]
  },
  {
   "cell_type": "code",
   "execution_count": null,
   "id": "ade3fd75-45c3-47dd-b946-fbab30ec0ba5",
   "metadata": {},
   "outputs": [],
   "source": [
    "ub = 10967.009707\n",
    "lb = 5096.226159395523 \n",
    "(ub-lb)/ub"
   ]
  },
  {
   "cell_type": "code",
   "execution_count": null,
   "id": "081977c8-4689-4bc7-8709-8900b3d517ae",
   "metadata": {},
   "outputs": [],
   "source": [
    "cols = [collect(results[i]) for i in eachindex(results)]\n",
    "df_res = DataFrame(cols, [Symbol(i) for i in eachindex(cols)]);\n",
    "# CSV.write(\"240802_res_big2.csv\", df_res)"
   ]
  },
  {
   "cell_type": "code",
   "execution_count": null,
   "id": "3a8f599c-fd83-46d7-b9fa-c56af3afc6a0",
   "metadata": {},
   "outputs": [],
   "source": [
    "df_res"
   ]
  },
  {
   "cell_type": "code",
   "execution_count": null,
   "id": "9d809cc3-f9e0-4fdc-9159-0c006f53dd36",
   "metadata": {},
   "outputs": [],
   "source": [
    "df_res"
   ]
  },
  {
   "cell_type": "code",
   "execution_count": null,
   "id": "4d4bee19-bc37-4971-b68c-2ea32c29a364",
   "metadata": {
    "scrolled": true
   },
   "outputs": [],
   "source": [
    "cols_ben = [collect(results_benders[i]) for i in eachindex(results_benders)]\n",
    "df_res_ben = DataFrame(cols_ben, [Symbol(i) for i in eachindex(cols_ben)]);\n",
    "CSV.write(\"240723_res_ins 8_benders.csv\", df_res_ben)"
   ]
  },
  {
   "cell_type": "code",
   "execution_count": null,
   "id": "107fc265-4a05-4ce7-87d8-3f9646b98823",
   "metadata": {},
   "outputs": [],
   "source": [
    "df_res_ben"
   ]
  },
  {
   "cell_type": "code",
   "execution_count": null,
   "id": "e95b8886-f757-455b-994b-6936289ede76",
   "metadata": {},
   "outputs": [],
   "source": []
  },
  {
   "cell_type": "code",
   "execution_count": null,
   "id": "1de43085-6eeb-497d-8630-db9f8dee8fa7",
   "metadata": {},
   "outputs": [],
   "source": []
  },
  {
   "cell_type": "code",
   "execution_count": null,
   "id": "35952024-603f-4e88-b53c-3ed6fccec98b",
   "metadata": {},
   "outputs": [],
   "source": []
  },
  {
   "cell_type": "code",
   "execution_count": null,
   "id": "a3848b30-b9e1-4721-b673-3a824dd506f5",
   "metadata": {},
   "outputs": [],
   "source": []
  },
  {
   "cell_type": "code",
   "execution_count": null,
   "id": "bc314457-2472-40a5-bae5-528ac623e13b",
   "metadata": {},
   "outputs": [],
   "source": []
  },
  {
   "cell_type": "code",
   "execution_count": null,
   "id": "2e11a59a-de53-4b30-a564-560794dafca4",
   "metadata": {},
   "outputs": [],
   "source": []
  }
 ],
 "metadata": {
  "kernelspec": {
   "display_name": "Julia 1.10.2",
   "language": "julia",
   "name": "julia-1.10"
  },
  "language_info": {
   "file_extension": ".jl",
   "mimetype": "application/julia",
   "name": "julia",
   "version": "1.10.2"
  }
 },
 "nbformat": 4,
 "nbformat_minor": 5
}
